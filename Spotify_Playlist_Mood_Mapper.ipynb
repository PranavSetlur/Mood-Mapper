{
  "nbformat": 4,
  "nbformat_minor": 0,
  "metadata": {
    "colab": {
      "provenance": []
    },
    "kernelspec": {
      "name": "python3",
      "display_name": "Python 3"
    },
    "language_info": {
      "name": "python"
    }
  },
  "cells": [
    {
      "cell_type": "markdown",
      "source": [
        "# Setup"
      ],
      "metadata": {
        "id": "1EDo-zOVdYdl"
      }
    },
    {
      "cell_type": "code",
      "execution_count": 1,
      "metadata": {
        "colab": {
          "base_uri": "https://localhost:8080/"
        },
        "id": "IwSrZfuOdSom",
        "outputId": "77dd9579-84fa-4321-fd3f-1ca705248d21"
      },
      "outputs": [
        {
          "output_type": "stream",
          "name": "stdout",
          "text": [
            "Collecting spotipy\n",
            "  Downloading spotipy-2.23.0-py3-none-any.whl (29 kB)\n",
            "Collecting redis>=3.5.3 (from spotipy)\n",
            "  Downloading redis-5.0.1-py3-none-any.whl (250 kB)\n",
            "\u001b[2K     \u001b[90m━━━━━━━━━━━━━━━━━━━━━━━━━━━━━━━━━━━━━━━━\u001b[0m \u001b[32m250.3/250.3 kB\u001b[0m \u001b[31m6.2 MB/s\u001b[0m eta \u001b[36m0:00:00\u001b[0m\n",
            "\u001b[?25hRequirement already satisfied: requests>=2.25.0 in /usr/local/lib/python3.10/dist-packages (from spotipy) (2.31.0)\n",
            "Requirement already satisfied: six>=1.15.0 in /usr/local/lib/python3.10/dist-packages (from spotipy) (1.16.0)\n",
            "Requirement already satisfied: urllib3>=1.26.0 in /usr/local/lib/python3.10/dist-packages (from spotipy) (2.0.7)\n",
            "Requirement already satisfied: async-timeout>=4.0.2 in /usr/local/lib/python3.10/dist-packages (from redis>=3.5.3->spotipy) (4.0.3)\n",
            "Requirement already satisfied: charset-normalizer<4,>=2 in /usr/local/lib/python3.10/dist-packages (from requests>=2.25.0->spotipy) (3.3.2)\n",
            "Requirement already satisfied: idna<4,>=2.5 in /usr/local/lib/python3.10/dist-packages (from requests>=2.25.0->spotipy) (3.6)\n",
            "Requirement already satisfied: certifi>=2017.4.17 in /usr/local/lib/python3.10/dist-packages (from requests>=2.25.0->spotipy) (2023.11.17)\n",
            "Installing collected packages: redis, spotipy\n",
            "Successfully installed redis-5.0.1 spotipy-2.23.0\n"
          ]
        }
      ],
      "source": [
        "!pip install spotipy\n",
        "import spotipy\n",
        "\n",
        "from spotipy.oauth2 import SpotifyClientCredentials\n",
        "\n",
        "import pandas as pd\n",
        "import numpy as np\n",
        "import random\n",
        "\n",
        "import matplotlib.pyplot as plt\n",
        "\n",
        "random.seed(43)"
      ]
    },
    {
      "cell_type": "code",
      "source": [
        "cid = '7fdd73fc6c4b4d998af5720f355ac07d'\n",
        "secret = '0f59b9f54aa94de08f5ef341cf5b01d7'\n",
        "client_credentials_manager = SpotifyClientCredentials(client_id=cid, client_secret=secret)\n",
        "sp = spotipy.Spotify(client_credentials_manager = client_credentials_manager)"
      ],
      "metadata": {
        "id": "Fug5D7ejdXti"
      },
      "execution_count": 2,
      "outputs": []
    },
    {
      "cell_type": "code",
      "source": [
        "features = [\"name\", \"danceability\", \"energy\", \"loudness\", \"speechiness\", \"instrumentalness\", \"valence\", \"tempo\", \"acousticness\", \"key\", \"mode\", \"time_signature\"]\n",
        "audio_features = features[1:]"
      ],
      "metadata": {
        "id": "tFbumqY4dXpu"
      },
      "execution_count": 3,
      "outputs": []
    },
    {
      "cell_type": "code",
      "source": [
        "def get_playlist_tracks(username,playlist_id):\n",
        "    results = sp.user_playlist_tracks(username,playlist_id)\n",
        "    tracks = results['items']\n",
        "    while results['next']:\n",
        "        results = sp.next(results)\n",
        "        tracks.extend(results['items'])\n",
        "\n",
        "    tracks = [track['track']['id'] for track in tracks if track['track']]\n",
        "    return tracks"
      ],
      "metadata": {
        "id": "xm6-7H8qdXnA"
      },
      "execution_count": 4,
      "outputs": []
    },
    {
      "cell_type": "code",
      "source": [
        "def call_playlist(creator, playlist_id):\n",
        "\n",
        "    playlist_df = pd.DataFrame(columns = features)\n",
        "    track_ids = get_playlist_tracks(creator, playlist_id)\n",
        "\n",
        "    # audio_features = sp.audio_features(track_ids)\n",
        "    # for track_features, track_id in zip(audio_features, track_ids):\n",
        "    #   if track_features:\n",
        "    #     track_features['name'] = sp.track(track_id)['name']\n",
        "    #     track_features['id'] = track_id  # Add track_id to the features\n",
        "    #     playlist_df = pd.concat([playlist_df, pd.DataFrame([track_features])], ignore_index=True)\n",
        "\n",
        "    for track_id in track_ids:\n",
        "        track_features = {'id': track_id}  # Add track_id to the features\n",
        "        audio_features = sp.audio_features(track_id)[0]\n",
        "\n",
        "        if audio_features:\n",
        "            track_features['name'] = sp.track(track_id)['name']\n",
        "            track_features.update({feature: audio_features[feature] for feature in features if feature != 'name'})\n",
        "\n",
        "            track_df = pd.DataFrame(track_features, index=[0])\n",
        "            playlist_df = pd.concat([playlist_df, track_df], ignore_index=True)\n",
        "\n",
        "    # for track_id in track_ids:\n",
        "\n",
        "    #     track_features = dict()\n",
        "    #     audio_features = sp.audio_features(track_id)[0]\n",
        "    #     if audio_features:\n",
        "    #       for feature in features:\n",
        "    #         if feature == 'name':\n",
        "    #           track_features[feature] = sp.track(track_id)['name']\n",
        "    #         else:\n",
        "    #           track_features[feature] = audio_features[feature]\n",
        "\n",
        "    #     #audio_analysis = sp.audio_analysis(track_id)['track']\n",
        "    #     #for feature in audio_analysis_list:  track_features[feature] = audio_analysis[feature]\n",
        "\n",
        "    #       track_df = pd.DataFrame(track_features, index = [0])\n",
        "    #       playlist_df = pd.concat([playlist_df, track_df], ignore_index = True)\n",
        "\n",
        "    return playlist_df\n"
      ],
      "metadata": {
        "id": "xeW_8A1LdXky"
      },
      "execution_count": 5,
      "outputs": []
    },
    {
      "cell_type": "code",
      "source": [
        "# car_songs = call_playlist(\"Spotify\", \"37i9dQZF1DWWMOmoXKqHTD\")"
      ],
      "metadata": {
        "id": "GL2amOtndXhm"
      },
      "execution_count": 6,
      "outputs": []
    },
    {
      "cell_type": "code",
      "source": [
        "# car_songs.head()"
      ],
      "metadata": {
        "id": "tryb9nexdXfU"
      },
      "execution_count": 7,
      "outputs": []
    },
    {
      "cell_type": "markdown",
      "source": [
        "# Mood Mapping"
      ],
      "metadata": {
        "id": "Ms9yckTcjan4"
      }
    },
    {
      "cell_type": "markdown",
      "source": [
        "## Defining Moods - Ignore"
      ],
      "metadata": {
        "id": "dxn3KqMOmyOj"
      }
    },
    {
      "cell_type": "code",
      "source": [
        "# moods list: happy, sad, chill, angry, party, instrumental, romance, spiritual"
      ],
      "metadata": {
        "id": "RvGxvrqwlpEu"
      },
      "execution_count": null,
      "outputs": []
    },
    {
      "cell_type": "code",
      "source": [
        "# happy1 = call_playlist(creator = \"\", playlist_id = '37i9dQZF1DXdPec7aLTmlC') #happy hits - spotify\n",
        "# happy2 = call_playlist(creator = \"\", playlist_id = '37i9dQZF1DWZKuerrwoAGz') #happy favorites - spotify\n",
        "# happy3 = call_playlist(creator = \"\", playlist_id = '37i9dQZF1DWSf2RDTDayIx') #happy beats - spotify\n",
        "# happy4 = call_playlist(creator = \"\", playlist_id = '37i9dQZF1DXcNb6Ba0LuVc') #feel good beats - spotify\n",
        "# happy5 = call_playlist(creator = \"\", playlist_id = '37i9dQZF1DWVlYsZJXqdym')\n",
        "# happy_playlist_data = pd.concat([happy1, happy2, happy3, happy4, happy5])"
      ],
      "metadata": {
        "id": "BTfSY6smdXcm"
      },
      "execution_count": null,
      "outputs": []
    },
    {
      "cell_type": "code",
      "source": [
        "# happy_playlist_data = happy_playlist_data.iloc[:, 1:]\n",
        "# happy_playlist_data.reset_index()\n",
        "# happy_playlist_data.to_csv('happy_2.csv')"
      ],
      "metadata": {
        "id": "ZwHfNb4Xp3Y-"
      },
      "execution_count": null,
      "outputs": []
    },
    {
      "cell_type": "code",
      "source": [
        "# sad1 = call_playlist(\"sadhour\", '37i9dQZF1DWSqBruwoIXkA')\n",
        "# sad2 = call_playlist(\"sadsongs\", '37i9dQZF1DX7qK8ma5wgG1')\n",
        "# sad3 = call_playlist(\"sadbops\", '37i9dQZF1DWZUAeYvs88zc')\n",
        "# sad4 = call_playlist(\"sadbeats\", '37i9dQZF1DWVrtsSlLKzro')\n",
        "# sad5 = call_playlist(\"\", \"37i9dQZF1DWYfVqUciU2jI\")\n",
        "# sad_playlist_data = pd.concat([sad1,sad2,sad3,sad4,sad5])"
      ],
      "metadata": {
        "id": "exECnTImdXaR"
      },
      "execution_count": null,
      "outputs": []
    },
    {
      "cell_type": "code",
      "source": [
        "# sad_playlist_data = sad_playlist_data.iloc[:, 1:]\n",
        "# sad_playlist_data.reset_index()\n",
        "# sad_playlist_data.to_csv(path_or_buf='/sad_data')"
      ],
      "metadata": {
        "id": "Lzg29Hg-rTzy"
      },
      "execution_count": null,
      "outputs": []
    },
    {
      "cell_type": "code",
      "source": [
        "# party1 = call_playlist(\"\", '37i9dQZF1DWY4xHQp97fN6')\n",
        "# party2 = call_playlist(\"\", '37i9dQZF1DX6GwdWRQMQpq')\n",
        "# party3 = call_playlist(\"\", '37i9dQZF1DX66m4icL86Ru')\n",
        "# party4 = call_playlist(\"\", '37i9dQZF1DXa2PvUpywmrr')\n",
        "# party5 = call_playlist(\"\", \"37i9dQZF1DX7e8TjkFNKWH\")\n",
        "# party_playlist_data = pd.concat([party1, party2, party3, party4, party5])"
      ],
      "metadata": {
        "id": "1iGtlongdXXU"
      },
      "execution_count": null,
      "outputs": []
    },
    {
      "cell_type": "code",
      "source": [
        "# party_playlist_data = party_playlist_data.iloc[:, 1:]\n",
        "# party_playlist_data.reset_index()\n",
        "# party_playlist_data.to_csv('party.csv')"
      ],
      "metadata": {
        "id": "ZCkzh-9ZNUdE"
      },
      "execution_count": null,
      "outputs": []
    },
    {
      "cell_type": "code",
      "source": [
        "# chill1 = call_playlist(creator = \"\",playlist_id = '6IKQrtMc4c00YzONcUt7QH')\n",
        "# chill2 = call_playlist(creator = \"\", playlist_id='37i9dQZF1DX6VdMW310YC7')\n",
        "# chill3 = call_playlist(creator = \"\", playlist_id ='37i9dQZF1DXdLK5wjKyhVm')\n",
        "# chill4 = call_playlist(creator = \"\", playlist_id ='37i9dQZF1DX2UgsUIg75Vg')\n",
        "# chill5 = call_playlist(\"Lowkey\", \"37i9dQZF1DX2yvmlOdMYzV\")\n",
        "# chill_playlist_data = pd.concat([chill1, chill2, chill3, chill4, chill5])"
      ],
      "metadata": {
        "id": "fmn7GxFadXU-"
      },
      "execution_count": null,
      "outputs": []
    },
    {
      "cell_type": "code",
      "source": [
        "# chill_playlist_data = chill_playlist_data.iloc[:, 1:]\n",
        "# chill_playlist_data.reset_index()\n",
        "# chill_playlist_data.to_csv('chill.csv')"
      ],
      "metadata": {
        "id": "yB6rQzuyNfmC"
      },
      "execution_count": null,
      "outputs": []
    },
    {
      "cell_type": "code",
      "source": [
        "# angry1 = call_playlist(\"\", '37i9dQZF1EIgNZCaOGb0Mi')\n",
        "# angry2 = call_playlist(\"\", '37i9dQZF1EIhuCNl2WSFYd')\n",
        "# angry3 = call_playlist(\"\", '4wrkUhohpvfNEIBgGtGeEK')\n",
        "# angry4 = call_playlist(\"\", '2h9aIhyq12WTvliYlpPRoh')\n",
        "# angry5 = call_playlist(\"\", '6DPfBIRtaEivNlJRx2d2Ge')"
      ],
      "metadata": {
        "id": "rxQ-b8medXSj"
      },
      "execution_count": null,
      "outputs": []
    },
    {
      "cell_type": "code",
      "source": [
        "# angry_playlist_data = pd.concat([angry1, angry2, angry3, angry4, angry5])\n",
        "# angry_playlist_data = angry_playlist_data.iloc[:, 1:]\n",
        "# angry_playlist_data.reset_index()\n",
        "# angry_playlist_data.to_csv('angry.csv')"
      ],
      "metadata": {
        "id": "93LJFEwSdXPr"
      },
      "execution_count": null,
      "outputs": []
    },
    {
      "cell_type": "code",
      "source": [
        "# instrument1 = call_playlist(\"\", '37i9dQZF1DX9j444F9NCBa')\n",
        "# instrument2 = call_playlist(\"\", '37i9dQZF1DX0khTY3HFA4M')\n",
        "# instrument3 = call_playlist(\"\", '37i9dQZF1DX9sIqqvKsjG8')\n",
        "# instrument4 = call_playlist(\"\", '37i9dQZF1DX7hmlhGsyxU0')\n",
        "# instrument5 = call_playlist(\"\", '37i9dQZF1DX9j444F9NCBa')"
      ],
      "metadata": {
        "id": "Mgj5OBIudXNT"
      },
      "execution_count": null,
      "outputs": []
    },
    {
      "cell_type": "code",
      "source": [
        "# instrument_playlist_data = pd.concat([instrument1, instrument2, instrument3, instrument4, instrument5])\n",
        "# instrument_playlist_data = instrument_playlist_data.iloc[:, 1:]\n",
        "# instrument_playlist_data.reset_index()\n",
        "# instrument_playlist_data.to_csv('instrument.csv')"
      ],
      "metadata": {
        "id": "kWZcRtRBdXK-"
      },
      "execution_count": null,
      "outputs": []
    },
    {
      "cell_type": "code",
      "source": [
        "# romance1 = call_playlist(\"\", '37i9dQZF1DX19jOGJFjAzV')\n",
        "# romance2 = call_playlist(\"\", '37i9dQZF1DX4s3V2rTswzO')\n",
        "# romance3 = call_playlist(\"\", '37i9dQZF1EVGJJ3r00UGAt')\n",
        "# romance4 = call_playlist(\"\", '37i9dQZF1DX89uMZWcnk7G')\n",
        "# romance5 = call_playlist(\"\", '37i9dQZF1DX6DLB6M8zkNk')"
      ],
      "metadata": {
        "id": "5Uwr00ujdXIh"
      },
      "execution_count": null,
      "outputs": []
    },
    {
      "cell_type": "code",
      "source": [
        "# romance_playlist_data = pd.concat([romance1, romance2, romance3, romance4, romance5])\n",
        "# romance_playlist_data = romance_playlist_data.iloc[:, 1:]\n",
        "# romance_playlist_data.reset_index()\n",
        "# romance_playlist_data.to_csv('romance.csv')"
      ],
      "metadata": {
        "id": "iMpS0hfdTWo5"
      },
      "execution_count": null,
      "outputs": []
    },
    {
      "cell_type": "code",
      "source": [
        "# spirit1 = call_playlist(\"\", '37i9dQZF1EIfHP8w1TxuOq')\n",
        "# spirit2 = call_playlist(\"\", '37i9dQZF1EIdTIIHPoG3Yo')\n",
        "# spirit3 = call_playlist(\"\", '37i9dQZF1EIhhnk5FnzYff')\n",
        "# spirit4 = call_playlist(\"\", '37i9dQZF1EIdTIIHPoG3Yo')\n",
        "# spirit5 = call_playlist(\"\", '37i9dQZF1DXdE1pRJvqV46')"
      ],
      "metadata": {
        "id": "DaiLrhTjTWkW"
      },
      "execution_count": null,
      "outputs": []
    },
    {
      "cell_type": "code",
      "source": [
        "# spirit_playlist_data = pd.concat([spirit1, spirit2, spirit3, spirit4, spirit5])\n",
        "# spirit_playlist_data = spirit_playlist_data.iloc[:, 1:]\n",
        "# spirit_playlist_data.reset_index()\n",
        "# spirit_playlist_data.to_csv('spirit_2.csv')"
      ],
      "metadata": {
        "id": "XuVIroZITWg4"
      },
      "execution_count": null,
      "outputs": []
    },
    {
      "cell_type": "markdown",
      "source": [
        "## Data Preparation"
      ],
      "metadata": {
        "id": "WtxhScT92My6"
      }
    },
    {
      "cell_type": "code",
      "source": [
        "angry = pd.read_csv('angry.csv').iloc[:, 1:]\n",
        "angry['mood'] = 'angry'\n",
        "chill = pd.read_csv('chill.csv').iloc[:, 1:]\n",
        "chill['mood'] = 'chill'\n",
        "happy = pd.read_csv('happy.csv').iloc[:, 1:]\n",
        "happy['mood'] = 'happy'\n",
        "instrument = pd.read_csv('instrument.csv').iloc[:, 1:]\n",
        "instrument['mood'] = 'instrumental'\n",
        "party = pd.read_csv('party.csv').iloc[:, 1:]\n",
        "party['mood'] = 'party'\n",
        "romance = pd.read_csv('romance.csv').iloc[:, 1:]\n",
        "romance['mood'] = 'romance'\n",
        "sad = pd.read_csv('sad.csv').iloc[:, 1:]\n",
        "sad['mood'] = 'sad'\n",
        "# spirit = pd.read_csv('spirit.csv').iloc[:, 1:]\n",
        "# spirit['mood'] = 'spiritual'"
      ],
      "metadata": {
        "id": "SSnR7F_G2MZ9"
      },
      "execution_count": 9,
      "outputs": []
    },
    {
      "cell_type": "code",
      "source": [
        "df = pd.concat([angry, chill, happy, instrument, party, romance, sad]).reset_index(drop = True)\n",
        "df = df.iloc[:, :-1]\n",
        "df.dropna(inplace = True)\n",
        "X = df[audio_features]\n",
        "y = df['mood']\n",
        "#print(set(y))"
      ],
      "metadata": {
        "id": "ZMCQKFIR2MWm"
      },
      "execution_count": 10,
      "outputs": []
    },
    {
      "cell_type": "code",
      "source": [
        "# normalize X\n",
        "X_norm = (X - X.min()) / (X.max() - X.min())\n",
        "X = X_norm"
      ],
      "metadata": {
        "id": "IjvIitf66CBb"
      },
      "execution_count": 11,
      "outputs": []
    },
    {
      "cell_type": "code",
      "source": [
        "from sklearn.model_selection import train_test_split"
      ],
      "metadata": {
        "id": "dmEZnAam2MOW"
      },
      "execution_count": 12,
      "outputs": []
    },
    {
      "cell_type": "code",
      "source": [
        "X_train, X_test, y_train, y_test = train_test_split(X, y, test_size = 0.2, random_state = 43)"
      ],
      "metadata": {
        "id": "rtq0bFqw2MMF"
      },
      "execution_count": 13,
      "outputs": []
    },
    {
      "cell_type": "code",
      "source": [
        "X_train.shape"
      ],
      "metadata": {
        "colab": {
          "base_uri": "https://localhost:8080/"
        },
        "id": "34jPUMGdAg2g",
        "outputId": "d6e244e8-8a89-47fd-f6c4-03369b33352c"
      },
      "execution_count": 14,
      "outputs": [
        {
          "output_type": "execute_result",
          "data": {
            "text/plain": [
              "(3685, 11)"
            ]
          },
          "metadata": {},
          "execution_count": 14
        }
      ]
    },
    {
      "cell_type": "code",
      "source": [
        "y_train.head()"
      ],
      "metadata": {
        "colab": {
          "base_uri": "https://localhost:8080/"
        },
        "id": "Med3biiBAoGP",
        "outputId": "34b113a2-76f9-4592-a689-4db6b9754b67"
      },
      "execution_count": 15,
      "outputs": [
        {
          "output_type": "execute_result",
          "data": {
            "text/plain": [
              "3745           party\n",
              "3078    instrumental\n",
              "4092             sad\n",
              "2190    instrumental\n",
              "4414             sad\n",
              "Name: mood, dtype: object"
            ]
          },
          "metadata": {},
          "execution_count": 15
        }
      ]
    },
    {
      "cell_type": "markdown",
      "source": [
        "## Model Selection"
      ],
      "metadata": {
        "id": "G0hHbNVJ9tRY"
      }
    },
    {
      "cell_type": "code",
      "source": [
        "# models to choose - Neural Networks, RFs, SVMs, XGBoost"
      ],
      "metadata": {
        "id": "psry5kov2MJ2"
      },
      "execution_count": null,
      "outputs": []
    },
    {
      "cell_type": "markdown",
      "source": [
        "### Support Vector Machines"
      ],
      "metadata": {
        "id": "t-Oz7_RV-liD"
      }
    },
    {
      "cell_type": "code",
      "source": [
        "from sklearn.svm import SVC\n",
        "from sklearn.model_selection import GridSearchCV\n",
        "from sklearn.preprocessing import StandardScaler"
      ],
      "metadata": {
        "id": "gGb8rZbB2MH-"
      },
      "execution_count": null,
      "outputs": []
    },
    {
      "cell_type": "code",
      "source": [
        "scaler = StandardScaler()\n",
        "X_train_svm = scaler.fit_transform(X_train)\n",
        "X_test_svm = scaler.transform(X_test)"
      ],
      "metadata": {
        "id": "OLPwwKXoEqAG"
      },
      "execution_count": null,
      "outputs": []
    },
    {
      "cell_type": "code",
      "source": [
        "param_grid = {\n",
        "    \"C\": [0.1, 1, 10],  # Regularization parameter\n",
        "    \"kernel\": [\"rbf\", \"poly\"],  # Kernel types\n",
        "    \"gamma\": [\"scale\", \"auto\"],  # Kernel coefficient for 'rbf' and 'poly'\n",
        "}"
      ],
      "metadata": {
        "id": "WcgErOfr-zl6"
      },
      "execution_count": null,
      "outputs": []
    },
    {
      "cell_type": "code",
      "source": [
        "grid_search = GridSearchCV(estimator = SVC(random_state = 43), param_grid = param_grid, cv = 3, scoring = 'accuracy', n_jobs = -1, verbose = 2)\n",
        "grid_search.fit(X_train_svm, y_train)"
      ],
      "metadata": {
        "colab": {
          "base_uri": "https://localhost:8080/",
          "height": 136
        },
        "id": "fpjL_m9C2MEo",
        "outputId": "39c660cc-4f2d-463b-bb77-b8b552bcf9ad"
      },
      "execution_count": null,
      "outputs": [
        {
          "output_type": "stream",
          "name": "stdout",
          "text": [
            "Fitting 3 folds for each of 12 candidates, totalling 36 fits\n"
          ]
        },
        {
          "output_type": "execute_result",
          "data": {
            "text/plain": [
              "GridSearchCV(cv=3, estimator=SVC(random_state=43), n_jobs=-1,\n",
              "             param_grid={'C': [0.1, 1, 10], 'gamma': ['scale', 'auto'],\n",
              "                         'kernel': ['rbf', 'poly']},\n",
              "             scoring='accuracy', verbose=2)"
            ],
            "text/html": [
              "<style>#sk-container-id-1 {color: black;background-color: white;}#sk-container-id-1 pre{padding: 0;}#sk-container-id-1 div.sk-toggleable {background-color: white;}#sk-container-id-1 label.sk-toggleable__label {cursor: pointer;display: block;width: 100%;margin-bottom: 0;padding: 0.3em;box-sizing: border-box;text-align: center;}#sk-container-id-1 label.sk-toggleable__label-arrow:before {content: \"▸\";float: left;margin-right: 0.25em;color: #696969;}#sk-container-id-1 label.sk-toggleable__label-arrow:hover:before {color: black;}#sk-container-id-1 div.sk-estimator:hover label.sk-toggleable__label-arrow:before {color: black;}#sk-container-id-1 div.sk-toggleable__content {max-height: 0;max-width: 0;overflow: hidden;text-align: left;background-color: #f0f8ff;}#sk-container-id-1 div.sk-toggleable__content pre {margin: 0.2em;color: black;border-radius: 0.25em;background-color: #f0f8ff;}#sk-container-id-1 input.sk-toggleable__control:checked~div.sk-toggleable__content {max-height: 200px;max-width: 100%;overflow: auto;}#sk-container-id-1 input.sk-toggleable__control:checked~label.sk-toggleable__label-arrow:before {content: \"▾\";}#sk-container-id-1 div.sk-estimator input.sk-toggleable__control:checked~label.sk-toggleable__label {background-color: #d4ebff;}#sk-container-id-1 div.sk-label input.sk-toggleable__control:checked~label.sk-toggleable__label {background-color: #d4ebff;}#sk-container-id-1 input.sk-hidden--visually {border: 0;clip: rect(1px 1px 1px 1px);clip: rect(1px, 1px, 1px, 1px);height: 1px;margin: -1px;overflow: hidden;padding: 0;position: absolute;width: 1px;}#sk-container-id-1 div.sk-estimator {font-family: monospace;background-color: #f0f8ff;border: 1px dotted black;border-radius: 0.25em;box-sizing: border-box;margin-bottom: 0.5em;}#sk-container-id-1 div.sk-estimator:hover {background-color: #d4ebff;}#sk-container-id-1 div.sk-parallel-item::after {content: \"\";width: 100%;border-bottom: 1px solid gray;flex-grow: 1;}#sk-container-id-1 div.sk-label:hover label.sk-toggleable__label {background-color: #d4ebff;}#sk-container-id-1 div.sk-serial::before {content: \"\";position: absolute;border-left: 1px solid gray;box-sizing: border-box;top: 0;bottom: 0;left: 50%;z-index: 0;}#sk-container-id-1 div.sk-serial {display: flex;flex-direction: column;align-items: center;background-color: white;padding-right: 0.2em;padding-left: 0.2em;position: relative;}#sk-container-id-1 div.sk-item {position: relative;z-index: 1;}#sk-container-id-1 div.sk-parallel {display: flex;align-items: stretch;justify-content: center;background-color: white;position: relative;}#sk-container-id-1 div.sk-item::before, #sk-container-id-1 div.sk-parallel-item::before {content: \"\";position: absolute;border-left: 1px solid gray;box-sizing: border-box;top: 0;bottom: 0;left: 50%;z-index: -1;}#sk-container-id-1 div.sk-parallel-item {display: flex;flex-direction: column;z-index: 1;position: relative;background-color: white;}#sk-container-id-1 div.sk-parallel-item:first-child::after {align-self: flex-end;width: 50%;}#sk-container-id-1 div.sk-parallel-item:last-child::after {align-self: flex-start;width: 50%;}#sk-container-id-1 div.sk-parallel-item:only-child::after {width: 0;}#sk-container-id-1 div.sk-dashed-wrapped {border: 1px dashed gray;margin: 0 0.4em 0.5em 0.4em;box-sizing: border-box;padding-bottom: 0.4em;background-color: white;}#sk-container-id-1 div.sk-label label {font-family: monospace;font-weight: bold;display: inline-block;line-height: 1.2em;}#sk-container-id-1 div.sk-label-container {text-align: center;}#sk-container-id-1 div.sk-container {/* jupyter's `normalize.less` sets `[hidden] { display: none; }` but bootstrap.min.css set `[hidden] { display: none !important; }` so we also need the `!important` here to be able to override the default hidden behavior on the sphinx rendered scikit-learn.org. See: https://github.com/scikit-learn/scikit-learn/issues/21755 */display: inline-block !important;position: relative;}#sk-container-id-1 div.sk-text-repr-fallback {display: none;}</style><div id=\"sk-container-id-1\" class=\"sk-top-container\"><div class=\"sk-text-repr-fallback\"><pre>GridSearchCV(cv=3, estimator=SVC(random_state=43), n_jobs=-1,\n",
              "             param_grid={&#x27;C&#x27;: [0.1, 1, 10], &#x27;gamma&#x27;: [&#x27;scale&#x27;, &#x27;auto&#x27;],\n",
              "                         &#x27;kernel&#x27;: [&#x27;rbf&#x27;, &#x27;poly&#x27;]},\n",
              "             scoring=&#x27;accuracy&#x27;, verbose=2)</pre><b>In a Jupyter environment, please rerun this cell to show the HTML representation or trust the notebook. <br />On GitHub, the HTML representation is unable to render, please try loading this page with nbviewer.org.</b></div><div class=\"sk-container\" hidden><div class=\"sk-item sk-dashed-wrapped\"><div class=\"sk-label-container\"><div class=\"sk-label sk-toggleable\"><input class=\"sk-toggleable__control sk-hidden--visually\" id=\"sk-estimator-id-1\" type=\"checkbox\" ><label for=\"sk-estimator-id-1\" class=\"sk-toggleable__label sk-toggleable__label-arrow\">GridSearchCV</label><div class=\"sk-toggleable__content\"><pre>GridSearchCV(cv=3, estimator=SVC(random_state=43), n_jobs=-1,\n",
              "             param_grid={&#x27;C&#x27;: [0.1, 1, 10], &#x27;gamma&#x27;: [&#x27;scale&#x27;, &#x27;auto&#x27;],\n",
              "                         &#x27;kernel&#x27;: [&#x27;rbf&#x27;, &#x27;poly&#x27;]},\n",
              "             scoring=&#x27;accuracy&#x27;, verbose=2)</pre></div></div></div><div class=\"sk-parallel\"><div class=\"sk-parallel-item\"><div class=\"sk-item\"><div class=\"sk-label-container\"><div class=\"sk-label sk-toggleable\"><input class=\"sk-toggleable__control sk-hidden--visually\" id=\"sk-estimator-id-2\" type=\"checkbox\" ><label for=\"sk-estimator-id-2\" class=\"sk-toggleable__label sk-toggleable__label-arrow\">estimator: SVC</label><div class=\"sk-toggleable__content\"><pre>SVC(random_state=43)</pre></div></div></div><div class=\"sk-serial\"><div class=\"sk-item\"><div class=\"sk-estimator sk-toggleable\"><input class=\"sk-toggleable__control sk-hidden--visually\" id=\"sk-estimator-id-3\" type=\"checkbox\" ><label for=\"sk-estimator-id-3\" class=\"sk-toggleable__label sk-toggleable__label-arrow\">SVC</label><div class=\"sk-toggleable__content\"><pre>SVC(random_state=43)</pre></div></div></div></div></div></div></div></div></div></div>"
            ]
          },
          "metadata": {},
          "execution_count": 19
        }
      ]
    },
    {
      "cell_type": "code",
      "source": [
        "print(\"Best Parameters: \", grid_search.best_params_)\n",
        "print(\"Best Cross-Validated Accuracy: {:.2f}%\".format(grid_search.best_score_ * 100))"
      ],
      "metadata": {
        "id": "bzGzsq_12MCd",
        "colab": {
          "base_uri": "https://localhost:8080/"
        },
        "outputId": "cd5378fb-893d-4e45-ec68-883e5f8c1e1d"
      },
      "execution_count": null,
      "outputs": [
        {
          "output_type": "stream",
          "name": "stdout",
          "text": [
            "Best Parameters:  {'C': 1, 'gamma': 'auto', 'kernel': 'rbf'}\n",
            "Best Cross-Validated Accuracy: 55.98%\n"
          ]
        }
      ]
    },
    {
      "cell_type": "code",
      "source": [
        "best_svm_model = grid_search.best_estimator_\n",
        "test_accuracy = best_svm_model.score(X_test_svm, y_test)\n",
        "print(\"Test Set Accuracy: {:.2f}%\".format(test_accuracy * 100))"
      ],
      "metadata": {
        "id": "b01wGtds2MAB",
        "colab": {
          "base_uri": "https://localhost:8080/"
        },
        "outputId": "497a2b90-8a86-4cb6-ecc6-6639d15548b9"
      },
      "execution_count": null,
      "outputs": [
        {
          "output_type": "stream",
          "name": "stdout",
          "text": [
            "Test Set Accuracy: 56.89%\n"
          ]
        }
      ]
    },
    {
      "cell_type": "markdown",
      "source": [
        "### Random Forests"
      ],
      "metadata": {
        "id": "LWKkWPAxFWeo"
      }
    },
    {
      "cell_type": "code",
      "source": [
        "from sklearn.ensemble import RandomForestClassifier"
      ],
      "metadata": {
        "id": "aJr3CzGV2L9q"
      },
      "execution_count": null,
      "outputs": []
    },
    {
      "cell_type": "code",
      "source": [
        "param_grid = {\n",
        "    'n_estimators': [50, 100],          # Number of trees in the forest\n",
        "    'max_depth': [None, 20],          # Maximum depth of the tree\n",
        "    'min_samples_leaf': [1, 2, 4]              # Minimum samples required to be at a leaf node\n",
        "}"
      ],
      "metadata": {
        "id": "XQOPCMjW2L7T"
      },
      "execution_count": null,
      "outputs": []
    },
    {
      "cell_type": "code",
      "source": [
        "rf = RandomForestClassifier(random_state = 43)"
      ],
      "metadata": {
        "id": "xnnQrKw-2L5S"
      },
      "execution_count": null,
      "outputs": []
    },
    {
      "cell_type": "code",
      "source": [
        "grid_search_rf = GridSearchCV(rf, param_grid, cv = 5, scoring = 'accuracy', verbose = 2, n_jobs = -1).fit(X_train, y_train)"
      ],
      "metadata": {
        "colab": {
          "base_uri": "https://localhost:8080/"
        },
        "id": "EEQ1hyWHFjbl",
        "outputId": "64ffa5b2-33b6-41f2-a3b8-2c0ee1686c3c"
      },
      "execution_count": null,
      "outputs": [
        {
          "output_type": "stream",
          "name": "stdout",
          "text": [
            "Fitting 5 folds for each of 12 candidates, totalling 60 fits\n"
          ]
        }
      ]
    },
    {
      "cell_type": "code",
      "source": [
        "print(\"Best Parameters: \", grid_search_rf.best_params_)\n",
        "print(\"Best Cross-Validated Accuracy: {:.2f}%\".format(grid_search_rf.best_score_ * 100))"
      ],
      "metadata": {
        "colab": {
          "base_uri": "https://localhost:8080/"
        },
        "id": "oXr-W12cFjZK",
        "outputId": "32cbd478-5831-411a-e93e-4e64be1c407e"
      },
      "execution_count": null,
      "outputs": [
        {
          "output_type": "stream",
          "name": "stdout",
          "text": [
            "Best Parameters:  {'max_depth': None, 'min_samples_leaf': 2, 'n_estimators': 100}\n",
            "Best Cross-Validated Accuracy: 60.95%\n"
          ]
        }
      ]
    },
    {
      "cell_type": "code",
      "source": [
        "best_rf_model = grid_search_rf.best_estimator_"
      ],
      "metadata": {
        "id": "V0A_J8nSHsX5"
      },
      "execution_count": null,
      "outputs": []
    },
    {
      "cell_type": "code",
      "source": [
        "test_accuracy_rf = best_rf_model.score(X_test, y_test)\n",
        "print(\"Test Set Accuracy: {:.2f}%\".format(test_accuracy_rf * 100))"
      ],
      "metadata": {
        "colab": {
          "base_uri": "https://localhost:8080/"
        },
        "id": "_Nf4aG7YFjXQ",
        "outputId": "8ed530c3-8cf0-4dea-8d00-c91c217ab000"
      },
      "execution_count": null,
      "outputs": [
        {
          "output_type": "stream",
          "name": "stdout",
          "text": [
            "Test Set Accuracy: 63.99%\n"
          ]
        }
      ]
    },
    {
      "cell_type": "markdown",
      "source": [
        "#### Trial and Error - Ignore"
      ],
      "metadata": {
        "id": "gc9N7Ift-Ti3"
      }
    },
    {
      "cell_type": "code",
      "source": [
        "rf_trial = RandomForestClassifier(random_state = 43, n_estimators = 300).fit(X_train, y_train)"
      ],
      "metadata": {
        "id": "xrcaxoMM-TaQ"
      },
      "execution_count": null,
      "outputs": []
    },
    {
      "cell_type": "code",
      "source": [
        "train_accuracy_rf = rf_trial.score(X_train, y_train)\n",
        "test_accuracy_rf = rf_trial.score(X_test, y_test)\n",
        "print(train_accuracy_rf, test_accuracy_rf)"
      ],
      "metadata": {
        "colab": {
          "base_uri": "https://localhost:8080/"
        },
        "id": "ODyty_kD-TSw",
        "outputId": "6b4c1d53-1806-430a-ff46-08fccc6b5168"
      },
      "execution_count": null,
      "outputs": [
        {
          "output_type": "stream",
          "name": "stdout",
          "text": [
            "0.9812754409769335 0.6409978308026031\n"
          ]
        }
      ]
    },
    {
      "cell_type": "markdown",
      "source": [
        "### Neural Networks"
      ],
      "metadata": {
        "id": "iKXvCy-YH0zB"
      }
    },
    {
      "cell_type": "code",
      "source": [
        "from sklearn.neural_network import MLPClassifier"
      ],
      "metadata": {
        "id": "avnR25u4FjUo"
      },
      "execution_count": null,
      "outputs": []
    },
    {
      "cell_type": "code",
      "source": [
        "param_grid = {\n",
        "    'hidden_layer_sizes': [(50, 50), (30, 20, 10)],  # Architecture of hidden layers\n",
        "    'activation': ['relu', 'tanh'],                # Activation function\n",
        "    'alpha': [0.0001, 0.001],                             # L2 regularization term\n",
        "}\n"
      ],
      "metadata": {
        "id": "g3MrJsr6FjSZ"
      },
      "execution_count": null,
      "outputs": []
    },
    {
      "cell_type": "code",
      "source": [
        "nn = MLPClassifier(random_state = 43, max_iter = 1000)"
      ],
      "metadata": {
        "id": "0GfsQs3rFjMz"
      },
      "execution_count": null,
      "outputs": []
    },
    {
      "cell_type": "code",
      "source": [
        "grid_search_nn = GridSearchCV(nn, param_grid, cv = 5, scoring = 'accuracy', verbose = 2, n_jobs = -1).fit(X_train, y_train)"
      ],
      "metadata": {
        "colab": {
          "base_uri": "https://localhost:8080/"
        },
        "id": "v0EnbyheFjJ1",
        "outputId": "adf17768-c268-4a05-a4ca-df62bb7aa802"
      },
      "execution_count": null,
      "outputs": [
        {
          "output_type": "stream",
          "name": "stdout",
          "text": [
            "Fitting 5 folds for each of 8 candidates, totalling 40 fits\n"
          ]
        }
      ]
    },
    {
      "cell_type": "code",
      "source": [
        "print(\"Best Parameters: \", grid_search_nn.best_params_)\n",
        "print(\"Best Cross-Validated Accuracy: {:.2f}%\".format(grid_search_nn.best_score_ * 100))"
      ],
      "metadata": {
        "colab": {
          "base_uri": "https://localhost:8080/"
        },
        "id": "pZfXsCT3FjHp",
        "outputId": "1fe1f719-4c4a-4f2e-b7cb-c2608e8040fd"
      },
      "execution_count": null,
      "outputs": [
        {
          "output_type": "stream",
          "name": "stdout",
          "text": [
            "Best Parameters:  {'activation': 'relu', 'alpha': 0.001, 'hidden_layer_sizes': (50, 50)}\n",
            "Best Cross-Validated Accuracy: 56.53%\n"
          ]
        }
      ]
    },
    {
      "cell_type": "code",
      "source": [
        "# Get the best Neural Network model based on cross-validation\n",
        "best_nn_model = grid_search_nn.best_estimator_\n",
        "\n",
        "# Evaluate the model on the test set\n",
        "test_accuracy_nn = best_nn_model.score(X_test, y_test)\n",
        "print(\"Test Set Accuracy: {:.2f}%\".format(test_accuracy_nn * 100))"
      ],
      "metadata": {
        "colab": {
          "base_uri": "https://localhost:8080/"
        },
        "id": "Q16B9dOcIuXW",
        "outputId": "2a531807-5f09-4280-c3ec-0ff373695101"
      },
      "execution_count": null,
      "outputs": [
        {
          "output_type": "stream",
          "name": "stdout",
          "text": [
            "Test Set Accuracy: 55.25%\n"
          ]
        }
      ]
    },
    {
      "cell_type": "markdown",
      "source": [
        "### TF NN"
      ],
      "metadata": {
        "id": "lymB_VAWDE7X"
      }
    },
    {
      "cell_type": "code",
      "source": [
        "import tensorflow as tf\n",
        "from tensorflow import keras\n",
        "from sklearn.preprocessing import LabelEncoder\n",
        "from sklearn.metrics import accuracy_score"
      ],
      "metadata": {
        "id": "m2PBHdlqDEw9"
      },
      "execution_count": null,
      "outputs": []
    },
    {
      "cell_type": "code",
      "source": [
        "label_encoder = LabelEncoder()\n",
        "y_train_encoded = label_encoder.fit_transform(y_train)\n",
        "y_test_encoded = label_encoder.transform(y_test)"
      ],
      "metadata": {
        "id": "kX2t6sciDEs-"
      },
      "execution_count": null,
      "outputs": []
    },
    {
      "cell_type": "code",
      "source": [
        "model = keras.Sequential([\n",
        "    keras.layers.Dense(128, activation='tanh', input_shape=(11,)),\n",
        "    keras.layers.Dropout(0.5),\n",
        "    keras.layers.Dense(64, activation='relu'),\n",
        "    keras.layers.Dropout(0.5),\n",
        "    keras.layers.Dense(8, activation='tanh')  # Assuming 8 mood classes\n",
        "])\n"
      ],
      "metadata": {
        "id": "caCUDI6IDEpG"
      },
      "execution_count": null,
      "outputs": []
    },
    {
      "cell_type": "code",
      "source": [
        "model.compile(optimizer='adam',\n",
        "              loss='sparse_categorical_crossentropy',\n",
        "              metrics=['accuracy'])"
      ],
      "metadata": {
        "id": "eZo_bDNNDEnC"
      },
      "execution_count": null,
      "outputs": []
    },
    {
      "cell_type": "code",
      "source": [
        "model.fit(X_train, y_train_encoded, epochs=100, batch_size=32, validation_split=0.2)"
      ],
      "metadata": {
        "colab": {
          "base_uri": "https://localhost:8080/"
        },
        "id": "CNdNjKd3DEkm",
        "outputId": "77a05982-a8e1-4f3f-ce1b-a203cea6844d"
      },
      "execution_count": null,
      "outputs": [
        {
          "output_type": "stream",
          "name": "stdout",
          "text": [
            "Epoch 1/100\n",
            "98/98 [==============================] - 2s 6ms/step - loss: 7.5928 - accuracy: 0.2413 - val_loss: 7.2659 - val_accuracy: 0.3501\n",
            "Epoch 2/100\n",
            "98/98 [==============================] - 0s 3ms/step - loss: 6.0382 - accuracy: 0.3124 - val_loss: 2.4447 - val_accuracy: 0.4067\n",
            "Epoch 3/100\n",
            "98/98 [==============================] - 0s 4ms/step - loss: 3.4835 - accuracy: 0.2651 - val_loss: 2.1230 - val_accuracy: 0.3269\n",
            "Epoch 4/100\n",
            "98/98 [==============================] - 1s 6ms/step - loss: 2.6169 - accuracy: 0.2535 - val_loss: 2.1017 - val_accuracy: 0.3346\n",
            "Epoch 5/100\n",
            "98/98 [==============================] - 0s 5ms/step - loss: 2.4244 - accuracy: 0.2410 - val_loss: 2.0794 - val_accuracy: 0.3024\n",
            "Epoch 6/100\n",
            "98/98 [==============================] - 0s 5ms/step - loss: 2.2813 - accuracy: 0.2178 - val_loss: 2.0794 - val_accuracy: 0.3282\n",
            "Epoch 7/100\n",
            "98/98 [==============================] - 0s 5ms/step - loss: 2.2075 - accuracy: 0.2236 - val_loss: 2.0794 - val_accuracy: 0.3037\n",
            "Epoch 8/100\n",
            "98/98 [==============================] - 0s 5ms/step - loss: 2.2127 - accuracy: 0.2104 - val_loss: 2.0794 - val_accuracy: 0.1544\n",
            "Epoch 9/100\n",
            "98/98 [==============================] - 0s 4ms/step - loss: 2.1563 - accuracy: 0.2037 - val_loss: 2.0794 - val_accuracy: 0.1789\n",
            "Epoch 10/100\n",
            "98/98 [==============================] - 0s 4ms/step - loss: 2.1309 - accuracy: 0.2075 - val_loss: 2.0794 - val_accuracy: 0.1338\n",
            "Epoch 11/100\n",
            "98/98 [==============================] - 0s 4ms/step - loss: 2.1615 - accuracy: 0.2046 - val_loss: 2.0794 - val_accuracy: 0.1120\n",
            "Epoch 12/100\n",
            "98/98 [==============================] - 0s 3ms/step - loss: 2.1136 - accuracy: 0.1937 - val_loss: 2.0794 - val_accuracy: 0.1030\n",
            "Epoch 13/100\n",
            "98/98 [==============================] - 0s 3ms/step - loss: 2.1241 - accuracy: 0.1792 - val_loss: 2.0794 - val_accuracy: 0.1055\n",
            "Epoch 14/100\n",
            "98/98 [==============================] - 0s 3ms/step - loss: 2.1268 - accuracy: 0.1940 - val_loss: 2.0794 - val_accuracy: 0.1377\n",
            "Epoch 15/100\n",
            "98/98 [==============================] - 0s 3ms/step - loss: 2.1214 - accuracy: 0.2040 - val_loss: 2.0794 - val_accuracy: 0.1364\n",
            "Epoch 16/100\n",
            "98/98 [==============================] - 0s 3ms/step - loss: 2.1132 - accuracy: 0.1992 - val_loss: 2.0794 - val_accuracy: 0.1300\n",
            "Epoch 17/100\n",
            "98/98 [==============================] - 0s 3ms/step - loss: 2.1529 - accuracy: 0.2069 - val_loss: 2.0794 - val_accuracy: 0.1776\n",
            "Epoch 18/100\n",
            "98/98 [==============================] - 0s 3ms/step - loss: 2.0997 - accuracy: 0.2037 - val_loss: 2.0794 - val_accuracy: 0.1197\n",
            "Epoch 19/100\n",
            "98/98 [==============================] - 0s 3ms/step - loss: 2.0987 - accuracy: 0.1924 - val_loss: 2.0794 - val_accuracy: 0.1081\n",
            "Epoch 20/100\n",
            "98/98 [==============================] - 0s 3ms/step - loss: 2.0919 - accuracy: 0.1918 - val_loss: 2.0794 - val_accuracy: 0.1081\n",
            "Epoch 21/100\n",
            "98/98 [==============================] - 0s 3ms/step - loss: 2.0994 - accuracy: 0.1844 - val_loss: 2.0794 - val_accuracy: 0.1107\n",
            "Epoch 22/100\n",
            "98/98 [==============================] - 0s 3ms/step - loss: 2.0991 - accuracy: 0.1744 - val_loss: 2.0794 - val_accuracy: 0.1145\n",
            "Epoch 23/100\n",
            "98/98 [==============================] - 0s 3ms/step - loss: 2.0889 - accuracy: 0.1898 - val_loss: 2.0794 - val_accuracy: 0.1197\n",
            "Epoch 24/100\n",
            "98/98 [==============================] - 0s 3ms/step - loss: 2.0980 - accuracy: 0.2005 - val_loss: 2.0794 - val_accuracy: 0.1223\n",
            "Epoch 25/100\n",
            "98/98 [==============================] - 0s 3ms/step - loss: 2.0981 - accuracy: 0.1879 - val_loss: 2.0794 - val_accuracy: 0.1171\n",
            "Epoch 26/100\n",
            "98/98 [==============================] - 0s 3ms/step - loss: 2.0963 - accuracy: 0.1885 - val_loss: 2.0794 - val_accuracy: 0.1158\n",
            "Epoch 27/100\n",
            "98/98 [==============================] - 0s 3ms/step - loss: 2.0996 - accuracy: 0.1834 - val_loss: 2.0794 - val_accuracy: 0.1145\n",
            "Epoch 28/100\n",
            "98/98 [==============================] - 0s 3ms/step - loss: 2.1040 - accuracy: 0.1908 - val_loss: 2.0794 - val_accuracy: 0.1133\n",
            "Epoch 29/100\n",
            "98/98 [==============================] - 0s 3ms/step - loss: 2.0918 - accuracy: 0.2017 - val_loss: 2.0794 - val_accuracy: 0.1107\n",
            "Epoch 30/100\n",
            "98/98 [==============================] - 0s 3ms/step - loss: 2.0825 - accuracy: 0.1995 - val_loss: 2.0794 - val_accuracy: 0.1107\n",
            "Epoch 31/100\n",
            "98/98 [==============================] - 0s 3ms/step - loss: 2.0858 - accuracy: 0.1879 - val_loss: 2.0794 - val_accuracy: 0.1107\n",
            "Epoch 32/100\n",
            "98/98 [==============================] - 0s 3ms/step - loss: 2.0899 - accuracy: 0.1931 - val_loss: 2.0794 - val_accuracy: 0.1081\n",
            "Epoch 33/100\n",
            "98/98 [==============================] - 0s 3ms/step - loss: 2.0866 - accuracy: 0.1773 - val_loss: 2.0794 - val_accuracy: 0.1030\n",
            "Epoch 34/100\n",
            "98/98 [==============================] - 0s 3ms/step - loss: 2.0942 - accuracy: 0.1705 - val_loss: 2.0794 - val_accuracy: 0.1030\n",
            "Epoch 35/100\n",
            "98/98 [==============================] - 0s 3ms/step - loss: 2.0885 - accuracy: 0.1705 - val_loss: 2.0794 - val_accuracy: 0.1094\n",
            "Epoch 36/100\n",
            "98/98 [==============================] - 0s 3ms/step - loss: 2.0864 - accuracy: 0.1676 - val_loss: 2.0794 - val_accuracy: 0.1120\n",
            "Epoch 37/100\n",
            "98/98 [==============================] - 0s 3ms/step - loss: 2.0833 - accuracy: 0.1808 - val_loss: 2.0794 - val_accuracy: 0.1120\n",
            "Epoch 38/100\n",
            "98/98 [==============================] - 0s 3ms/step - loss: 2.0861 - accuracy: 0.1927 - val_loss: 2.0794 - val_accuracy: 0.1120\n",
            "Epoch 39/100\n",
            "98/98 [==============================] - 0s 3ms/step - loss: 2.0830 - accuracy: 0.1834 - val_loss: 2.0794 - val_accuracy: 0.1107\n",
            "Epoch 40/100\n",
            "98/98 [==============================] - 0s 3ms/step - loss: 2.0857 - accuracy: 0.1773 - val_loss: 2.0794 - val_accuracy: 0.1094\n",
            "Epoch 41/100\n",
            "98/98 [==============================] - 0s 3ms/step - loss: 2.0833 - accuracy: 0.1612 - val_loss: 2.0794 - val_accuracy: 0.1094\n",
            "Epoch 42/100\n",
            "98/98 [==============================] - 0s 3ms/step - loss: 2.0870 - accuracy: 0.1567 - val_loss: 2.0794 - val_accuracy: 0.1094\n",
            "Epoch 43/100\n",
            "98/98 [==============================] - 0s 3ms/step - loss: 2.0827 - accuracy: 0.1599 - val_loss: 2.0794 - val_accuracy: 0.1094\n",
            "Epoch 44/100\n",
            "98/98 [==============================] - 0s 3ms/step - loss: 2.0829 - accuracy: 0.1622 - val_loss: 2.0794 - val_accuracy: 0.1094\n",
            "Epoch 45/100\n",
            "98/98 [==============================] - 0s 3ms/step - loss: 2.0824 - accuracy: 0.1622 - val_loss: 2.0794 - val_accuracy: 0.1094\n",
            "Epoch 46/100\n",
            "98/98 [==============================] - 0s 4ms/step - loss: 2.0856 - accuracy: 0.1596 - val_loss: 2.0794 - val_accuracy: 0.1094\n",
            "Epoch 47/100\n",
            "98/98 [==============================] - 0s 5ms/step - loss: 2.0824 - accuracy: 0.1779 - val_loss: 2.0794 - val_accuracy: 0.1094\n",
            "Epoch 48/100\n",
            "98/98 [==============================] - 0s 4ms/step - loss: 2.0794 - accuracy: 0.1792 - val_loss: 2.0794 - val_accuracy: 0.1094\n",
            "Epoch 49/100\n",
            "98/98 [==============================] - 0s 5ms/step - loss: 2.0890 - accuracy: 0.1692 - val_loss: 2.0794 - val_accuracy: 0.1094\n",
            "Epoch 50/100\n",
            "98/98 [==============================] - 0s 4ms/step - loss: 2.0781 - accuracy: 0.1750 - val_loss: 2.0794 - val_accuracy: 0.1094\n",
            "Epoch 51/100\n",
            "98/98 [==============================] - 0s 5ms/step - loss: 2.0822 - accuracy: 0.1821 - val_loss: 2.0794 - val_accuracy: 0.1094\n",
            "Epoch 52/100\n",
            "98/98 [==============================] - 0s 5ms/step - loss: 2.0827 - accuracy: 0.1596 - val_loss: 2.0794 - val_accuracy: 0.1094\n",
            "Epoch 53/100\n",
            "98/98 [==============================] - 0s 4ms/step - loss: 2.0788 - accuracy: 0.1541 - val_loss: 2.0794 - val_accuracy: 0.1094\n",
            "Epoch 54/100\n",
            "98/98 [==============================] - 0s 4ms/step - loss: 2.0827 - accuracy: 0.1660 - val_loss: 2.0794 - val_accuracy: 0.1094\n",
            "Epoch 55/100\n",
            "98/98 [==============================] - 0s 3ms/step - loss: 2.0829 - accuracy: 0.1548 - val_loss: 2.0794 - val_accuracy: 0.1107\n",
            "Epoch 56/100\n",
            "98/98 [==============================] - 0s 3ms/step - loss: 2.0821 - accuracy: 0.1725 - val_loss: 2.0794 - val_accuracy: 0.1107\n",
            "Epoch 57/100\n",
            "98/98 [==============================] - 0s 3ms/step - loss: 2.0826 - accuracy: 0.1663 - val_loss: 2.0794 - val_accuracy: 0.1107\n",
            "Epoch 58/100\n",
            "98/98 [==============================] - 0s 3ms/step - loss: 2.0794 - accuracy: 0.1586 - val_loss: 2.0794 - val_accuracy: 0.1107\n",
            "Epoch 59/100\n",
            "98/98 [==============================] - 0s 3ms/step - loss: 2.0859 - accuracy: 0.1474 - val_loss: 2.0794 - val_accuracy: 0.1107\n",
            "Epoch 60/100\n",
            "98/98 [==============================] - 0s 3ms/step - loss: 2.0822 - accuracy: 0.1680 - val_loss: 2.0794 - val_accuracy: 0.1094\n",
            "Epoch 61/100\n",
            "98/98 [==============================] - 0s 3ms/step - loss: 2.0829 - accuracy: 0.1718 - val_loss: 2.0794 - val_accuracy: 0.1094\n",
            "Epoch 62/100\n",
            "98/98 [==============================] - 0s 3ms/step - loss: 2.0794 - accuracy: 0.1606 - val_loss: 2.0794 - val_accuracy: 0.1094\n",
            "Epoch 63/100\n",
            "98/98 [==============================] - 0s 3ms/step - loss: 2.0788 - accuracy: 0.1676 - val_loss: 2.0794 - val_accuracy: 0.1094\n",
            "Epoch 64/100\n",
            "98/98 [==============================] - 0s 3ms/step - loss: 2.0832 - accuracy: 0.1728 - val_loss: 2.0794 - val_accuracy: 0.1094\n",
            "Epoch 65/100\n",
            "98/98 [==============================] - 0s 3ms/step - loss: 2.0788 - accuracy: 0.1615 - val_loss: 2.0794 - val_accuracy: 0.1094\n",
            "Epoch 66/100\n",
            "98/98 [==============================] - 0s 3ms/step - loss: 2.0788 - accuracy: 0.1657 - val_loss: 2.0794 - val_accuracy: 0.1094\n",
            "Epoch 67/100\n",
            "98/98 [==============================] - 0s 3ms/step - loss: 2.0794 - accuracy: 0.1667 - val_loss: 2.0794 - val_accuracy: 0.1094\n",
            "Epoch 68/100\n",
            "98/98 [==============================] - 0s 3ms/step - loss: 2.0826 - accuracy: 0.1728 - val_loss: 2.0794 - val_accuracy: 0.1094\n",
            "Epoch 69/100\n",
            "98/98 [==============================] - 0s 3ms/step - loss: 2.0835 - accuracy: 0.1721 - val_loss: 2.0794 - val_accuracy: 0.1094\n",
            "Epoch 70/100\n",
            "98/98 [==============================] - 0s 3ms/step - loss: 2.0868 - accuracy: 0.1734 - val_loss: 2.0794 - val_accuracy: 0.1068\n",
            "Epoch 71/100\n",
            "98/98 [==============================] - 0s 3ms/step - loss: 2.0788 - accuracy: 0.1757 - val_loss: 2.0794 - val_accuracy: 0.1068\n",
            "Epoch 72/100\n",
            "98/98 [==============================] - 0s 3ms/step - loss: 2.0794 - accuracy: 0.1799 - val_loss: 2.0794 - val_accuracy: 0.1068\n",
            "Epoch 73/100\n",
            "98/98 [==============================] - 0s 3ms/step - loss: 2.0794 - accuracy: 0.1689 - val_loss: 2.0794 - val_accuracy: 0.1068\n",
            "Epoch 74/100\n",
            "98/98 [==============================] - 0s 3ms/step - loss: 2.0827 - accuracy: 0.1573 - val_loss: 2.0794 - val_accuracy: 0.1004\n",
            "Epoch 75/100\n",
            "98/98 [==============================] - 0s 3ms/step - loss: 2.0900 - accuracy: 0.1441 - val_loss: 2.0794 - val_accuracy: 0.1017\n",
            "Epoch 76/100\n",
            "98/98 [==============================] - 0s 3ms/step - loss: 2.0794 - accuracy: 0.1490 - val_loss: 2.0794 - val_accuracy: 0.1017\n",
            "Epoch 77/100\n",
            "98/98 [==============================] - 0s 3ms/step - loss: 2.0794 - accuracy: 0.1361 - val_loss: 2.0794 - val_accuracy: 0.1017\n",
            "Epoch 78/100\n",
            "98/98 [==============================] - 0s 3ms/step - loss: 2.0794 - accuracy: 0.1519 - val_loss: 2.0794 - val_accuracy: 0.1017\n",
            "Epoch 79/100\n",
            "98/98 [==============================] - 0s 3ms/step - loss: 2.0794 - accuracy: 0.1483 - val_loss: 2.0794 - val_accuracy: 0.1017\n",
            "Epoch 80/100\n",
            "98/98 [==============================] - 0s 3ms/step - loss: 2.0898 - accuracy: 0.1445 - val_loss: 2.0794 - val_accuracy: 0.0965\n",
            "Epoch 81/100\n",
            "98/98 [==============================] - 0s 3ms/step - loss: 2.0794 - accuracy: 0.1641 - val_loss: 2.0794 - val_accuracy: 0.0991\n",
            "Epoch 82/100\n",
            "98/98 [==============================] - 0s 3ms/step - loss: 2.0831 - accuracy: 0.1515 - val_loss: 2.0794 - val_accuracy: 0.1004\n",
            "Epoch 83/100\n",
            "98/98 [==============================] - 0s 3ms/step - loss: 2.0820 - accuracy: 0.1570 - val_loss: 2.0794 - val_accuracy: 0.1094\n",
            "Epoch 84/100\n",
            "98/98 [==============================] - 0s 3ms/step - loss: 2.0794 - accuracy: 0.1602 - val_loss: 2.0794 - val_accuracy: 0.1094\n",
            "Epoch 85/100\n",
            "98/98 [==============================] - 0s 3ms/step - loss: 2.0864 - accuracy: 0.1509 - val_loss: 2.0794 - val_accuracy: 0.1094\n",
            "Epoch 86/100\n",
            "98/98 [==============================] - 0s 3ms/step - loss: 2.0794 - accuracy: 0.1522 - val_loss: 2.0794 - val_accuracy: 0.1094\n",
            "Epoch 87/100\n",
            "98/98 [==============================] - 0s 3ms/step - loss: 2.0794 - accuracy: 0.1515 - val_loss: 2.0794 - val_accuracy: 0.1094\n",
            "Epoch 88/100\n",
            "98/98 [==============================] - 1s 6ms/step - loss: 2.0794 - accuracy: 0.1412 - val_loss: 2.0794 - val_accuracy: 0.1094\n",
            "Epoch 89/100\n",
            "98/98 [==============================] - 0s 5ms/step - loss: 2.0794 - accuracy: 0.1586 - val_loss: 2.0794 - val_accuracy: 0.1094\n",
            "Epoch 90/100\n",
            "98/98 [==============================] - 0s 4ms/step - loss: 2.0794 - accuracy: 0.1409 - val_loss: 2.0794 - val_accuracy: 0.1094\n",
            "Epoch 91/100\n",
            "98/98 [==============================] - 0s 5ms/step - loss: 2.0821 - accuracy: 0.1486 - val_loss: 2.0794 - val_accuracy: 0.1055\n",
            "Epoch 92/100\n",
            "98/98 [==============================] - 0s 4ms/step - loss: 2.0794 - accuracy: 0.1644 - val_loss: 2.0794 - val_accuracy: 0.1004\n",
            "Epoch 93/100\n",
            "98/98 [==============================] - 0s 5ms/step - loss: 2.0794 - accuracy: 0.1721 - val_loss: 2.0794 - val_accuracy: 0.1004\n",
            "Epoch 94/100\n",
            "98/98 [==============================] - 0s 5ms/step - loss: 2.0794 - accuracy: 0.1721 - val_loss: 2.0794 - val_accuracy: 0.1004\n",
            "Epoch 95/100\n",
            "98/98 [==============================] - 0s 5ms/step - loss: 2.0794 - accuracy: 0.1747 - val_loss: 2.0794 - val_accuracy: 0.1004\n",
            "Epoch 96/100\n",
            "98/98 [==============================] - 0s 3ms/step - loss: 2.0794 - accuracy: 0.1638 - val_loss: 2.0794 - val_accuracy: 0.1004\n",
            "Epoch 97/100\n",
            "98/98 [==============================] - 0s 3ms/step - loss: 2.0794 - accuracy: 0.1628 - val_loss: 2.0794 - val_accuracy: 0.1004\n",
            "Epoch 98/100\n",
            "98/98 [==============================] - 0s 3ms/step - loss: 2.0794 - accuracy: 0.1638 - val_loss: 2.0794 - val_accuracy: 0.1004\n",
            "Epoch 99/100\n",
            "98/98 [==============================] - 0s 3ms/step - loss: 2.0794 - accuracy: 0.1731 - val_loss: 2.0794 - val_accuracy: 0.1004\n",
            "Epoch 100/100\n",
            "98/98 [==============================] - 0s 3ms/step - loss: 2.0794 - accuracy: 0.1731 - val_loss: 2.0794 - val_accuracy: 0.1004\n"
          ]
        },
        {
          "output_type": "execute_result",
          "data": {
            "text/plain": [
              "<keras.src.callbacks.History at 0x7e33521b7ca0>"
            ]
          },
          "metadata": {},
          "execution_count": 41
        }
      ]
    },
    {
      "cell_type": "code",
      "source": [
        "test_loss, test_accuracy = model.evaluate(X_test, y_test_encoded)\n",
        "print(f'Test Accuracy: {test_accuracy * 100:.2f}%')"
      ],
      "metadata": {
        "colab": {
          "base_uri": "https://localhost:8080/"
        },
        "id": "s4keeV9KDEhQ",
        "outputId": "c09d3462-912e-45fc-fa69-3d75bc86b44d"
      },
      "execution_count": null,
      "outputs": [
        {
          "output_type": "stream",
          "name": "stdout",
          "text": [
            "31/31 [==============================] - 0s 2ms/step - loss: 2.0794 - accuracy: 0.1039\n",
            "Test Accuracy: 10.39%\n"
          ]
        }
      ]
    },
    {
      "cell_type": "markdown",
      "source": [
        "### XGBoost"
      ],
      "metadata": {
        "id": "Imojd81WKQZc"
      }
    },
    {
      "cell_type": "code",
      "source": [
        "from xgboost import XGBClassifier\n",
        "from sklearn.preprocessing import LabelEncoder"
      ],
      "metadata": {
        "id": "ugMXFCFfIuRt"
      },
      "execution_count": null,
      "outputs": []
    },
    {
      "cell_type": "code",
      "source": [
        "param_grid = {\n",
        "    'learning_rate': [0.01, 0.1],        # Step size shrinkage used in the update\n",
        "    'n_estimators': [50, 100],            # Number of boosting rounds\n",
        "    'max_depth': [3, 5],                    # Maximum depth of a tree\n",
        "    'gamma': [1, 5]                         # Minimum loss reduction required to make a further partition on a leaf node\n",
        "}"
      ],
      "metadata": {
        "id": "-y0j2SKXIuKi"
      },
      "execution_count": null,
      "outputs": []
    },
    {
      "cell_type": "code",
      "source": [
        "xgb_model = XGBClassifier(random_state = 43)"
      ],
      "metadata": {
        "id": "ZCQ-jvjsIuGK"
      },
      "execution_count": null,
      "outputs": []
    },
    {
      "cell_type": "code",
      "source": [
        "label_encoder = LabelEncoder()\n",
        "y_train_encoded = label_encoder.fit_transform(y_train)\n",
        "y_test_encoded = label_encoder.fit(y_test)"
      ],
      "metadata": {
        "id": "x2aV4LjCLrla"
      },
      "execution_count": null,
      "outputs": []
    },
    {
      "cell_type": "code",
      "source": [
        "grid_search_xgb = GridSearchCV(xgb_model, param_grid, cv=3, scoring='accuracy', verbose=2, n_jobs=-1).fit(X_train, y_train_encoded)"
      ],
      "metadata": {
        "colab": {
          "base_uri": "https://localhost:8080/"
        },
        "id": "gyaSLZu9It-4",
        "outputId": "1c7259d0-021c-4c83-ce55-68a1c59f18f3"
      },
      "execution_count": null,
      "outputs": [
        {
          "output_type": "stream",
          "name": "stdout",
          "text": [
            "Fitting 3 folds for each of 16 candidates, totalling 48 fits\n"
          ]
        }
      ]
    },
    {
      "cell_type": "code",
      "source": [
        "print(\"Best Parameters: \", grid_search_xgb.best_params_)\n",
        "print(\"Best Cross-Validated Accuracy: {:.2f}%\".format(grid_search_xgb.best_score_ * 100))"
      ],
      "metadata": {
        "colab": {
          "base_uri": "https://localhost:8080/"
        },
        "id": "c7gbQ4vYIt6s",
        "outputId": "b267781f-4d11-4f3a-9a26-91d9117f2ab4"
      },
      "execution_count": null,
      "outputs": [
        {
          "output_type": "stream",
          "name": "stdout",
          "text": [
            "Best Parameters:  {'gamma': 1, 'learning_rate': 0.1, 'max_depth': 5, 'n_estimators': 100}\n",
            "Best Cross-Validated Accuracy: 58.82%\n"
          ]
        }
      ]
    },
    {
      "cell_type": "code",
      "source": [
        "best_xgb_model = grid_search_xgb.best_estimator_\n",
        "y_test_encoded = label_encoder.transform(y_test)\n",
        "\n",
        "# Evaluate the model on the test set\n",
        "test_accuracy_xgb = best_xgb_model.score(X_test, y_test_encoded)\n",
        "print(\"Test Set Accuracy: {:.2f}%\".format(test_accuracy_xgb * 100))"
      ],
      "metadata": {
        "colab": {
          "base_uri": "https://localhost:8080/"
        },
        "id": "ptYzI6fCIt3H",
        "outputId": "15adfdd5-e486-40d8-e5ca-95451fa6cf7b"
      },
      "execution_count": null,
      "outputs": [
        {
          "output_type": "stream",
          "name": "stdout",
          "text": [
            "Test Set Accuracy: 61.32%\n"
          ]
        }
      ]
    },
    {
      "cell_type": "markdown",
      "source": [
        "# Evaluation"
      ],
      "metadata": {
        "id": "6fdAGvRmE45j"
      }
    },
    {
      "cell_type": "code",
      "source": [
        "from sklearn.ensemble import RandomForestClassifier\n",
        "fin_model = RandomForestClassifier(random_state = 43, n_estimators = 300).fit(X, y)"
      ],
      "metadata": {
        "id": "1U-EMG1DMEWe"
      },
      "execution_count": 18,
      "outputs": []
    },
    {
      "cell_type": "code",
      "source": [
        "moods = ['angry', 'chill', 'happy', 'instrumental', 'party', 'romance', 'sad']"
      ],
      "metadata": {
        "id": "bqdIv_9o9yBt"
      },
      "execution_count": 19,
      "outputs": []
    },
    {
      "cell_type": "code",
      "source": [
        "def overall_mood(songs, model):\n",
        "  songs_features = songs.drop(['name', 'id'], axis = 1)\n",
        "  mood_dict = {'angry': 0, 'chill': 0, 'happy': 0, 'instrumental': 0, 'party': 0, 'romance': 0, 'sad': 0}\n",
        "  predictions = model.predict(songs_features)\n",
        "  for prediction in predictions:\n",
        "    mood_dict[prediction] += 1\n",
        "\n",
        "  return mood_dict\n",
        "\n",
        "  #for index, row in songs.iterrows():\n"
      ],
      "metadata": {
        "id": "fPsFxAtHItzf"
      },
      "execution_count": 34,
      "outputs": []
    },
    {
      "cell_type": "code",
      "source": [
        "def songs_by_mood(songs, mood, model):\n",
        "  songs_features = songs.drop(['name', 'id'], axis = 1)\n",
        "  predictions = model.predict(songs_features)\n",
        "  mood_ids = []\n",
        "  for i in range(len(predictions)):\n",
        "    if predictions[i] == mood:\n",
        "      mood_ids.append(i)\n",
        "\n",
        "  #print(mood_ids)\n",
        "  song_names = []\n",
        "  for id in mood_ids:\n",
        "    song_names.append(songs.iloc[id, -2])\n",
        "  return song_names\n",
        "\n"
      ],
      "metadata": {
        "id": "TrNMtEvgIs2Y"
      },
      "execution_count": 43,
      "outputs": []
    },
    {
      "cell_type": "code",
      "source": [
        "def visualize_moods(mood_dict):\n",
        "  values = list(mood_dict.values())\n",
        "  labels = list(mood_dict.keys())\n",
        "\n",
        "  plt.pie(values, labels = labels, autopct='%1.1f%%', startangle=140)\n",
        "  #plt.legend(labels, loc = 'best')\n",
        "  plt.axis('equal')\n",
        "  plt.title(\"Percentage of Moods\")\n",
        "  plt.show()"
      ],
      "metadata": {
        "id": "JyqKJln1FzV4"
      },
      "execution_count": 36,
      "outputs": []
    },
    {
      "cell_type": "code",
      "source": [
        "def output(songs, model):\n",
        "  mood_dict = overall_mood(songs, model)\n",
        "  main_mood = max(mood_dict, key=mood_dict.get)\n",
        "  print(f\"The overall mood of the playlist is: {main_mood}\")\n",
        "  visualize_moods(mood_dict)\n",
        "  for mood in moods:\n",
        "    print(f\"Songs that have the {mood} mood\")\n",
        "    display(songs_by_mood(songs, mood, model))\n",
        "    print('\\n')\n"
      ],
      "metadata": {
        "id": "nAg-7A9eWkjm"
      },
      "execution_count": 37,
      "outputs": []
    },
    {
      "cell_type": "code",
      "source": [
        "trial = call_playlist(\"\", \"7sNnl30NDOJbLuxLZARV4q\")"
      ],
      "metadata": {
        "id": "l9ojJ1QjIsv5"
      },
      "execution_count": 38,
      "outputs": []
    },
    {
      "cell_type": "code",
      "source": [
        "trial.head()"
      ],
      "metadata": {
        "colab": {
          "base_uri": "https://localhost:8080/",
          "height": 278
        },
        "id": "kMq6CXN4IqMQ",
        "outputId": "6d44e2da-b820-476f-901d-8997b1101a76"
      },
      "execution_count": 39,
      "outputs": [
        {
          "output_type": "execute_result",
          "data": {
            "text/plain": [
              "                      name  danceability  energy  loudness  speechiness  \\\n",
              "0                   Friday         0.684   0.889    -4.555       0.1020   \n",
              "1  Scars To Your Beautiful         0.573   0.739    -5.740       0.1290   \n",
              "2                     Baby         0.728   0.859    -5.237       0.1370   \n",
              "3                  7 rings         0.778   0.317   -10.732       0.3340   \n",
              "4            thank u, next         0.717   0.653    -5.634       0.0658   \n",
              "\n",
              "   instrumentalness  valence    tempo  acousticness key mode time_signature  \\\n",
              "0          0.000003    0.582  112.004        0.0307   8    0              4   \n",
              "1          0.000000    0.451   97.085        0.0285   0    1              4   \n",
              "2          0.000000    0.535   65.043        0.0401   5    0              4   \n",
              "3          0.000000    0.327  140.048        0.5920   1    0              4   \n",
              "4          0.000000    0.412  106.966        0.2290   1    1              4   \n",
              "\n",
              "                       id  \n",
              "0  4fK6E2UywZTJIa5kWnCD6x  \n",
              "1  0prNGof3XqfTvNDxHonvdK  \n",
              "2  6epn3r7S14KUqlReYr77hA  \n",
              "3  6ocbgoVGwYJhOv1GgI9NsF  \n",
              "4  3e9HZxeyfWwjeyPAMmWSSQ  "
            ],
            "text/html": [
              "\n",
              "  <div id=\"df-9fb009ee-62b8-4397-87a5-7fa79267853f\" class=\"colab-df-container\">\n",
              "    <div>\n",
              "<style scoped>\n",
              "    .dataframe tbody tr th:only-of-type {\n",
              "        vertical-align: middle;\n",
              "    }\n",
              "\n",
              "    .dataframe tbody tr th {\n",
              "        vertical-align: top;\n",
              "    }\n",
              "\n",
              "    .dataframe thead th {\n",
              "        text-align: right;\n",
              "    }\n",
              "</style>\n",
              "<table border=\"1\" class=\"dataframe\">\n",
              "  <thead>\n",
              "    <tr style=\"text-align: right;\">\n",
              "      <th></th>\n",
              "      <th>name</th>\n",
              "      <th>danceability</th>\n",
              "      <th>energy</th>\n",
              "      <th>loudness</th>\n",
              "      <th>speechiness</th>\n",
              "      <th>instrumentalness</th>\n",
              "      <th>valence</th>\n",
              "      <th>tempo</th>\n",
              "      <th>acousticness</th>\n",
              "      <th>key</th>\n",
              "      <th>mode</th>\n",
              "      <th>time_signature</th>\n",
              "      <th>id</th>\n",
              "    </tr>\n",
              "  </thead>\n",
              "  <tbody>\n",
              "    <tr>\n",
              "      <th>0</th>\n",
              "      <td>Friday</td>\n",
              "      <td>0.684</td>\n",
              "      <td>0.889</td>\n",
              "      <td>-4.555</td>\n",
              "      <td>0.1020</td>\n",
              "      <td>0.000003</td>\n",
              "      <td>0.582</td>\n",
              "      <td>112.004</td>\n",
              "      <td>0.0307</td>\n",
              "      <td>8</td>\n",
              "      <td>0</td>\n",
              "      <td>4</td>\n",
              "      <td>4fK6E2UywZTJIa5kWnCD6x</td>\n",
              "    </tr>\n",
              "    <tr>\n",
              "      <th>1</th>\n",
              "      <td>Scars To Your Beautiful</td>\n",
              "      <td>0.573</td>\n",
              "      <td>0.739</td>\n",
              "      <td>-5.740</td>\n",
              "      <td>0.1290</td>\n",
              "      <td>0.000000</td>\n",
              "      <td>0.451</td>\n",
              "      <td>97.085</td>\n",
              "      <td>0.0285</td>\n",
              "      <td>0</td>\n",
              "      <td>1</td>\n",
              "      <td>4</td>\n",
              "      <td>0prNGof3XqfTvNDxHonvdK</td>\n",
              "    </tr>\n",
              "    <tr>\n",
              "      <th>2</th>\n",
              "      <td>Baby</td>\n",
              "      <td>0.728</td>\n",
              "      <td>0.859</td>\n",
              "      <td>-5.237</td>\n",
              "      <td>0.1370</td>\n",
              "      <td>0.000000</td>\n",
              "      <td>0.535</td>\n",
              "      <td>65.043</td>\n",
              "      <td>0.0401</td>\n",
              "      <td>5</td>\n",
              "      <td>0</td>\n",
              "      <td>4</td>\n",
              "      <td>6epn3r7S14KUqlReYr77hA</td>\n",
              "    </tr>\n",
              "    <tr>\n",
              "      <th>3</th>\n",
              "      <td>7 rings</td>\n",
              "      <td>0.778</td>\n",
              "      <td>0.317</td>\n",
              "      <td>-10.732</td>\n",
              "      <td>0.3340</td>\n",
              "      <td>0.000000</td>\n",
              "      <td>0.327</td>\n",
              "      <td>140.048</td>\n",
              "      <td>0.5920</td>\n",
              "      <td>1</td>\n",
              "      <td>0</td>\n",
              "      <td>4</td>\n",
              "      <td>6ocbgoVGwYJhOv1GgI9NsF</td>\n",
              "    </tr>\n",
              "    <tr>\n",
              "      <th>4</th>\n",
              "      <td>thank u, next</td>\n",
              "      <td>0.717</td>\n",
              "      <td>0.653</td>\n",
              "      <td>-5.634</td>\n",
              "      <td>0.0658</td>\n",
              "      <td>0.000000</td>\n",
              "      <td>0.412</td>\n",
              "      <td>106.966</td>\n",
              "      <td>0.2290</td>\n",
              "      <td>1</td>\n",
              "      <td>1</td>\n",
              "      <td>4</td>\n",
              "      <td>3e9HZxeyfWwjeyPAMmWSSQ</td>\n",
              "    </tr>\n",
              "  </tbody>\n",
              "</table>\n",
              "</div>\n",
              "    <div class=\"colab-df-buttons\">\n",
              "\n",
              "  <div class=\"colab-df-container\">\n",
              "    <button class=\"colab-df-convert\" onclick=\"convertToInteractive('df-9fb009ee-62b8-4397-87a5-7fa79267853f')\"\n",
              "            title=\"Convert this dataframe to an interactive table.\"\n",
              "            style=\"display:none;\">\n",
              "\n",
              "  <svg xmlns=\"http://www.w3.org/2000/svg\" height=\"24px\" viewBox=\"0 -960 960 960\">\n",
              "    <path d=\"M120-120v-720h720v720H120Zm60-500h600v-160H180v160Zm220 220h160v-160H400v160Zm0 220h160v-160H400v160ZM180-400h160v-160H180v160Zm440 0h160v-160H620v160ZM180-180h160v-160H180v160Zm440 0h160v-160H620v160Z\"/>\n",
              "  </svg>\n",
              "    </button>\n",
              "\n",
              "  <style>\n",
              "    .colab-df-container {\n",
              "      display:flex;\n",
              "      gap: 12px;\n",
              "    }\n",
              "\n",
              "    .colab-df-convert {\n",
              "      background-color: #E8F0FE;\n",
              "      border: none;\n",
              "      border-radius: 50%;\n",
              "      cursor: pointer;\n",
              "      display: none;\n",
              "      fill: #1967D2;\n",
              "      height: 32px;\n",
              "      padding: 0 0 0 0;\n",
              "      width: 32px;\n",
              "    }\n",
              "\n",
              "    .colab-df-convert:hover {\n",
              "      background-color: #E2EBFA;\n",
              "      box-shadow: 0px 1px 2px rgba(60, 64, 67, 0.3), 0px 1px 3px 1px rgba(60, 64, 67, 0.15);\n",
              "      fill: #174EA6;\n",
              "    }\n",
              "\n",
              "    .colab-df-buttons div {\n",
              "      margin-bottom: 4px;\n",
              "    }\n",
              "\n",
              "    [theme=dark] .colab-df-convert {\n",
              "      background-color: #3B4455;\n",
              "      fill: #D2E3FC;\n",
              "    }\n",
              "\n",
              "    [theme=dark] .colab-df-convert:hover {\n",
              "      background-color: #434B5C;\n",
              "      box-shadow: 0px 1px 3px 1px rgba(0, 0, 0, 0.15);\n",
              "      filter: drop-shadow(0px 1px 2px rgba(0, 0, 0, 0.3));\n",
              "      fill: #FFFFFF;\n",
              "    }\n",
              "  </style>\n",
              "\n",
              "    <script>\n",
              "      const buttonEl =\n",
              "        document.querySelector('#df-9fb009ee-62b8-4397-87a5-7fa79267853f button.colab-df-convert');\n",
              "      buttonEl.style.display =\n",
              "        google.colab.kernel.accessAllowed ? 'block' : 'none';\n",
              "\n",
              "      async function convertToInteractive(key) {\n",
              "        const element = document.querySelector('#df-9fb009ee-62b8-4397-87a5-7fa79267853f');\n",
              "        const dataTable =\n",
              "          await google.colab.kernel.invokeFunction('convertToInteractive',\n",
              "                                                    [key], {});\n",
              "        if (!dataTable) return;\n",
              "\n",
              "        const docLinkHtml = 'Like what you see? Visit the ' +\n",
              "          '<a target=\"_blank\" href=https://colab.research.google.com/notebooks/data_table.ipynb>data table notebook</a>'\n",
              "          + ' to learn more about interactive tables.';\n",
              "        element.innerHTML = '';\n",
              "        dataTable['output_type'] = 'display_data';\n",
              "        await google.colab.output.renderOutput(dataTable, element);\n",
              "        const docLink = document.createElement('div');\n",
              "        docLink.innerHTML = docLinkHtml;\n",
              "        element.appendChild(docLink);\n",
              "      }\n",
              "    </script>\n",
              "  </div>\n",
              "\n",
              "\n",
              "<div id=\"df-b6f144f5-035c-4b39-805c-2f2a4e88fc0b\">\n",
              "  <button class=\"colab-df-quickchart\" onclick=\"quickchart('df-b6f144f5-035c-4b39-805c-2f2a4e88fc0b')\"\n",
              "            title=\"Suggest charts\"\n",
              "            style=\"display:none;\">\n",
              "\n",
              "<svg xmlns=\"http://www.w3.org/2000/svg\" height=\"24px\"viewBox=\"0 0 24 24\"\n",
              "     width=\"24px\">\n",
              "    <g>\n",
              "        <path d=\"M19 3H5c-1.1 0-2 .9-2 2v14c0 1.1.9 2 2 2h14c1.1 0 2-.9 2-2V5c0-1.1-.9-2-2-2zM9 17H7v-7h2v7zm4 0h-2V7h2v10zm4 0h-2v-4h2v4z\"/>\n",
              "    </g>\n",
              "</svg>\n",
              "  </button>\n",
              "\n",
              "<style>\n",
              "  .colab-df-quickchart {\n",
              "      --bg-color: #E8F0FE;\n",
              "      --fill-color: #1967D2;\n",
              "      --hover-bg-color: #E2EBFA;\n",
              "      --hover-fill-color: #174EA6;\n",
              "      --disabled-fill-color: #AAA;\n",
              "      --disabled-bg-color: #DDD;\n",
              "  }\n",
              "\n",
              "  [theme=dark] .colab-df-quickchart {\n",
              "      --bg-color: #3B4455;\n",
              "      --fill-color: #D2E3FC;\n",
              "      --hover-bg-color: #434B5C;\n",
              "      --hover-fill-color: #FFFFFF;\n",
              "      --disabled-bg-color: #3B4455;\n",
              "      --disabled-fill-color: #666;\n",
              "  }\n",
              "\n",
              "  .colab-df-quickchart {\n",
              "    background-color: var(--bg-color);\n",
              "    border: none;\n",
              "    border-radius: 50%;\n",
              "    cursor: pointer;\n",
              "    display: none;\n",
              "    fill: var(--fill-color);\n",
              "    height: 32px;\n",
              "    padding: 0;\n",
              "    width: 32px;\n",
              "  }\n",
              "\n",
              "  .colab-df-quickchart:hover {\n",
              "    background-color: var(--hover-bg-color);\n",
              "    box-shadow: 0 1px 2px rgba(60, 64, 67, 0.3), 0 1px 3px 1px rgba(60, 64, 67, 0.15);\n",
              "    fill: var(--button-hover-fill-color);\n",
              "  }\n",
              "\n",
              "  .colab-df-quickchart-complete:disabled,\n",
              "  .colab-df-quickchart-complete:disabled:hover {\n",
              "    background-color: var(--disabled-bg-color);\n",
              "    fill: var(--disabled-fill-color);\n",
              "    box-shadow: none;\n",
              "  }\n",
              "\n",
              "  .colab-df-spinner {\n",
              "    border: 2px solid var(--fill-color);\n",
              "    border-color: transparent;\n",
              "    border-bottom-color: var(--fill-color);\n",
              "    animation:\n",
              "      spin 1s steps(1) infinite;\n",
              "  }\n",
              "\n",
              "  @keyframes spin {\n",
              "    0% {\n",
              "      border-color: transparent;\n",
              "      border-bottom-color: var(--fill-color);\n",
              "      border-left-color: var(--fill-color);\n",
              "    }\n",
              "    20% {\n",
              "      border-color: transparent;\n",
              "      border-left-color: var(--fill-color);\n",
              "      border-top-color: var(--fill-color);\n",
              "    }\n",
              "    30% {\n",
              "      border-color: transparent;\n",
              "      border-left-color: var(--fill-color);\n",
              "      border-top-color: var(--fill-color);\n",
              "      border-right-color: var(--fill-color);\n",
              "    }\n",
              "    40% {\n",
              "      border-color: transparent;\n",
              "      border-right-color: var(--fill-color);\n",
              "      border-top-color: var(--fill-color);\n",
              "    }\n",
              "    60% {\n",
              "      border-color: transparent;\n",
              "      border-right-color: var(--fill-color);\n",
              "    }\n",
              "    80% {\n",
              "      border-color: transparent;\n",
              "      border-right-color: var(--fill-color);\n",
              "      border-bottom-color: var(--fill-color);\n",
              "    }\n",
              "    90% {\n",
              "      border-color: transparent;\n",
              "      border-bottom-color: var(--fill-color);\n",
              "    }\n",
              "  }\n",
              "</style>\n",
              "\n",
              "  <script>\n",
              "    async function quickchart(key) {\n",
              "      const quickchartButtonEl =\n",
              "        document.querySelector('#' + key + ' button');\n",
              "      quickchartButtonEl.disabled = true;  // To prevent multiple clicks.\n",
              "      quickchartButtonEl.classList.add('colab-df-spinner');\n",
              "      try {\n",
              "        const charts = await google.colab.kernel.invokeFunction(\n",
              "            'suggestCharts', [key], {});\n",
              "      } catch (error) {\n",
              "        console.error('Error during call to suggestCharts:', error);\n",
              "      }\n",
              "      quickchartButtonEl.classList.remove('colab-df-spinner');\n",
              "      quickchartButtonEl.classList.add('colab-df-quickchart-complete');\n",
              "    }\n",
              "    (() => {\n",
              "      let quickchartButtonEl =\n",
              "        document.querySelector('#df-b6f144f5-035c-4b39-805c-2f2a4e88fc0b button');\n",
              "      quickchartButtonEl.style.display =\n",
              "        google.colab.kernel.accessAllowed ? 'block' : 'none';\n",
              "    })();\n",
              "  </script>\n",
              "</div>\n",
              "\n",
              "    </div>\n",
              "  </div>\n"
            ]
          },
          "metadata": {},
          "execution_count": 39
        }
      ]
    },
    {
      "cell_type": "code",
      "source": [
        "# normalize trial\n",
        "trial_features = trial.iloc[:, 1:-1]\n",
        "trial_norm = (trial_features - trial_features.min()) / (trial_features.max() - trial_features.min())\n",
        "trial_norm['name'] = trial['name']\n",
        "trial_norm['id'] = trial['id']\n",
        "trial = trial_norm"
      ],
      "metadata": {
        "id": "gt7iZe0DVmtT"
      },
      "execution_count": 40,
      "outputs": []
    },
    {
      "cell_type": "code",
      "source": [
        "trial.head()"
      ],
      "metadata": {
        "colab": {
          "base_uri": "https://localhost:8080/",
          "height": 278
        },
        "id": "FL3-PYoIWaCR",
        "outputId": "80bda719-414f-4e3b-e423-34a6733553f8"
      },
      "execution_count": 41,
      "outputs": [
        {
          "output_type": "execute_result",
          "data": {
            "text/plain": [
              "  danceability    energy  loudness speechiness instrumentalness   valence  \\\n",
              "0     0.723529  0.916667  0.769222    0.246509         0.210656  0.530504   \n",
              "1     0.397059  0.676282  0.639245    0.334199              0.0  0.356764   \n",
              "2     0.852941   0.86859  0.694417    0.360182              0.0   0.46817   \n",
              "3          1.0       0.0  0.091697         1.0              0.0  0.192308   \n",
              "4     0.820588  0.538462  0.650872    0.128938              0.0   0.30504   \n",
              "\n",
              "      tempo acousticness       key mode time_signature  \\\n",
              "0  0.447435     0.039511  0.727273  0.0            1.0   \n",
              "1   0.30529     0.035747       0.0  1.0            1.0   \n",
              "2       0.0     0.055596  0.454545  0.0            1.0   \n",
              "3  0.714633          1.0  0.090909  0.0            1.0   \n",
              "4  0.399434     0.378839  0.090909  1.0            1.0   \n",
              "\n",
              "                      name                      id  \n",
              "0                   Friday  4fK6E2UywZTJIa5kWnCD6x  \n",
              "1  Scars To Your Beautiful  0prNGof3XqfTvNDxHonvdK  \n",
              "2                     Baby  6epn3r7S14KUqlReYr77hA  \n",
              "3                  7 rings  6ocbgoVGwYJhOv1GgI9NsF  \n",
              "4            thank u, next  3e9HZxeyfWwjeyPAMmWSSQ  "
            ],
            "text/html": [
              "\n",
              "  <div id=\"df-e9651e63-05a3-41ff-b64d-1e505d5d77c3\" class=\"colab-df-container\">\n",
              "    <div>\n",
              "<style scoped>\n",
              "    .dataframe tbody tr th:only-of-type {\n",
              "        vertical-align: middle;\n",
              "    }\n",
              "\n",
              "    .dataframe tbody tr th {\n",
              "        vertical-align: top;\n",
              "    }\n",
              "\n",
              "    .dataframe thead th {\n",
              "        text-align: right;\n",
              "    }\n",
              "</style>\n",
              "<table border=\"1\" class=\"dataframe\">\n",
              "  <thead>\n",
              "    <tr style=\"text-align: right;\">\n",
              "      <th></th>\n",
              "      <th>danceability</th>\n",
              "      <th>energy</th>\n",
              "      <th>loudness</th>\n",
              "      <th>speechiness</th>\n",
              "      <th>instrumentalness</th>\n",
              "      <th>valence</th>\n",
              "      <th>tempo</th>\n",
              "      <th>acousticness</th>\n",
              "      <th>key</th>\n",
              "      <th>mode</th>\n",
              "      <th>time_signature</th>\n",
              "      <th>name</th>\n",
              "      <th>id</th>\n",
              "    </tr>\n",
              "  </thead>\n",
              "  <tbody>\n",
              "    <tr>\n",
              "      <th>0</th>\n",
              "      <td>0.723529</td>\n",
              "      <td>0.916667</td>\n",
              "      <td>0.769222</td>\n",
              "      <td>0.246509</td>\n",
              "      <td>0.210656</td>\n",
              "      <td>0.530504</td>\n",
              "      <td>0.447435</td>\n",
              "      <td>0.039511</td>\n",
              "      <td>0.727273</td>\n",
              "      <td>0.0</td>\n",
              "      <td>1.0</td>\n",
              "      <td>Friday</td>\n",
              "      <td>4fK6E2UywZTJIa5kWnCD6x</td>\n",
              "    </tr>\n",
              "    <tr>\n",
              "      <th>1</th>\n",
              "      <td>0.397059</td>\n",
              "      <td>0.676282</td>\n",
              "      <td>0.639245</td>\n",
              "      <td>0.334199</td>\n",
              "      <td>0.0</td>\n",
              "      <td>0.356764</td>\n",
              "      <td>0.30529</td>\n",
              "      <td>0.035747</td>\n",
              "      <td>0.0</td>\n",
              "      <td>1.0</td>\n",
              "      <td>1.0</td>\n",
              "      <td>Scars To Your Beautiful</td>\n",
              "      <td>0prNGof3XqfTvNDxHonvdK</td>\n",
              "    </tr>\n",
              "    <tr>\n",
              "      <th>2</th>\n",
              "      <td>0.852941</td>\n",
              "      <td>0.86859</td>\n",
              "      <td>0.694417</td>\n",
              "      <td>0.360182</td>\n",
              "      <td>0.0</td>\n",
              "      <td>0.46817</td>\n",
              "      <td>0.0</td>\n",
              "      <td>0.055596</td>\n",
              "      <td>0.454545</td>\n",
              "      <td>0.0</td>\n",
              "      <td>1.0</td>\n",
              "      <td>Baby</td>\n",
              "      <td>6epn3r7S14KUqlReYr77hA</td>\n",
              "    </tr>\n",
              "    <tr>\n",
              "      <th>3</th>\n",
              "      <td>1.0</td>\n",
              "      <td>0.0</td>\n",
              "      <td>0.091697</td>\n",
              "      <td>1.0</td>\n",
              "      <td>0.0</td>\n",
              "      <td>0.192308</td>\n",
              "      <td>0.714633</td>\n",
              "      <td>1.0</td>\n",
              "      <td>0.090909</td>\n",
              "      <td>0.0</td>\n",
              "      <td>1.0</td>\n",
              "      <td>7 rings</td>\n",
              "      <td>6ocbgoVGwYJhOv1GgI9NsF</td>\n",
              "    </tr>\n",
              "    <tr>\n",
              "      <th>4</th>\n",
              "      <td>0.820588</td>\n",
              "      <td>0.538462</td>\n",
              "      <td>0.650872</td>\n",
              "      <td>0.128938</td>\n",
              "      <td>0.0</td>\n",
              "      <td>0.30504</td>\n",
              "      <td>0.399434</td>\n",
              "      <td>0.378839</td>\n",
              "      <td>0.090909</td>\n",
              "      <td>1.0</td>\n",
              "      <td>1.0</td>\n",
              "      <td>thank u, next</td>\n",
              "      <td>3e9HZxeyfWwjeyPAMmWSSQ</td>\n",
              "    </tr>\n",
              "  </tbody>\n",
              "</table>\n",
              "</div>\n",
              "    <div class=\"colab-df-buttons\">\n",
              "\n",
              "  <div class=\"colab-df-container\">\n",
              "    <button class=\"colab-df-convert\" onclick=\"convertToInteractive('df-e9651e63-05a3-41ff-b64d-1e505d5d77c3')\"\n",
              "            title=\"Convert this dataframe to an interactive table.\"\n",
              "            style=\"display:none;\">\n",
              "\n",
              "  <svg xmlns=\"http://www.w3.org/2000/svg\" height=\"24px\" viewBox=\"0 -960 960 960\">\n",
              "    <path d=\"M120-120v-720h720v720H120Zm60-500h600v-160H180v160Zm220 220h160v-160H400v160Zm0 220h160v-160H400v160ZM180-400h160v-160H180v160Zm440 0h160v-160H620v160ZM180-180h160v-160H180v160Zm440 0h160v-160H620v160Z\"/>\n",
              "  </svg>\n",
              "    </button>\n",
              "\n",
              "  <style>\n",
              "    .colab-df-container {\n",
              "      display:flex;\n",
              "      gap: 12px;\n",
              "    }\n",
              "\n",
              "    .colab-df-convert {\n",
              "      background-color: #E8F0FE;\n",
              "      border: none;\n",
              "      border-radius: 50%;\n",
              "      cursor: pointer;\n",
              "      display: none;\n",
              "      fill: #1967D2;\n",
              "      height: 32px;\n",
              "      padding: 0 0 0 0;\n",
              "      width: 32px;\n",
              "    }\n",
              "\n",
              "    .colab-df-convert:hover {\n",
              "      background-color: #E2EBFA;\n",
              "      box-shadow: 0px 1px 2px rgba(60, 64, 67, 0.3), 0px 1px 3px 1px rgba(60, 64, 67, 0.15);\n",
              "      fill: #174EA6;\n",
              "    }\n",
              "\n",
              "    .colab-df-buttons div {\n",
              "      margin-bottom: 4px;\n",
              "    }\n",
              "\n",
              "    [theme=dark] .colab-df-convert {\n",
              "      background-color: #3B4455;\n",
              "      fill: #D2E3FC;\n",
              "    }\n",
              "\n",
              "    [theme=dark] .colab-df-convert:hover {\n",
              "      background-color: #434B5C;\n",
              "      box-shadow: 0px 1px 3px 1px rgba(0, 0, 0, 0.15);\n",
              "      filter: drop-shadow(0px 1px 2px rgba(0, 0, 0, 0.3));\n",
              "      fill: #FFFFFF;\n",
              "    }\n",
              "  </style>\n",
              "\n",
              "    <script>\n",
              "      const buttonEl =\n",
              "        document.querySelector('#df-e9651e63-05a3-41ff-b64d-1e505d5d77c3 button.colab-df-convert');\n",
              "      buttonEl.style.display =\n",
              "        google.colab.kernel.accessAllowed ? 'block' : 'none';\n",
              "\n",
              "      async function convertToInteractive(key) {\n",
              "        const element = document.querySelector('#df-e9651e63-05a3-41ff-b64d-1e505d5d77c3');\n",
              "        const dataTable =\n",
              "          await google.colab.kernel.invokeFunction('convertToInteractive',\n",
              "                                                    [key], {});\n",
              "        if (!dataTable) return;\n",
              "\n",
              "        const docLinkHtml = 'Like what you see? Visit the ' +\n",
              "          '<a target=\"_blank\" href=https://colab.research.google.com/notebooks/data_table.ipynb>data table notebook</a>'\n",
              "          + ' to learn more about interactive tables.';\n",
              "        element.innerHTML = '';\n",
              "        dataTable['output_type'] = 'display_data';\n",
              "        await google.colab.output.renderOutput(dataTable, element);\n",
              "        const docLink = document.createElement('div');\n",
              "        docLink.innerHTML = docLinkHtml;\n",
              "        element.appendChild(docLink);\n",
              "      }\n",
              "    </script>\n",
              "  </div>\n",
              "\n",
              "\n",
              "<div id=\"df-f12c94e8-14f6-4ff7-8bb5-ca258fd76585\">\n",
              "  <button class=\"colab-df-quickchart\" onclick=\"quickchart('df-f12c94e8-14f6-4ff7-8bb5-ca258fd76585')\"\n",
              "            title=\"Suggest charts\"\n",
              "            style=\"display:none;\">\n",
              "\n",
              "<svg xmlns=\"http://www.w3.org/2000/svg\" height=\"24px\"viewBox=\"0 0 24 24\"\n",
              "     width=\"24px\">\n",
              "    <g>\n",
              "        <path d=\"M19 3H5c-1.1 0-2 .9-2 2v14c0 1.1.9 2 2 2h14c1.1 0 2-.9 2-2V5c0-1.1-.9-2-2-2zM9 17H7v-7h2v7zm4 0h-2V7h2v10zm4 0h-2v-4h2v4z\"/>\n",
              "    </g>\n",
              "</svg>\n",
              "  </button>\n",
              "\n",
              "<style>\n",
              "  .colab-df-quickchart {\n",
              "      --bg-color: #E8F0FE;\n",
              "      --fill-color: #1967D2;\n",
              "      --hover-bg-color: #E2EBFA;\n",
              "      --hover-fill-color: #174EA6;\n",
              "      --disabled-fill-color: #AAA;\n",
              "      --disabled-bg-color: #DDD;\n",
              "  }\n",
              "\n",
              "  [theme=dark] .colab-df-quickchart {\n",
              "      --bg-color: #3B4455;\n",
              "      --fill-color: #D2E3FC;\n",
              "      --hover-bg-color: #434B5C;\n",
              "      --hover-fill-color: #FFFFFF;\n",
              "      --disabled-bg-color: #3B4455;\n",
              "      --disabled-fill-color: #666;\n",
              "  }\n",
              "\n",
              "  .colab-df-quickchart {\n",
              "    background-color: var(--bg-color);\n",
              "    border: none;\n",
              "    border-radius: 50%;\n",
              "    cursor: pointer;\n",
              "    display: none;\n",
              "    fill: var(--fill-color);\n",
              "    height: 32px;\n",
              "    padding: 0;\n",
              "    width: 32px;\n",
              "  }\n",
              "\n",
              "  .colab-df-quickchart:hover {\n",
              "    background-color: var(--hover-bg-color);\n",
              "    box-shadow: 0 1px 2px rgba(60, 64, 67, 0.3), 0 1px 3px 1px rgba(60, 64, 67, 0.15);\n",
              "    fill: var(--button-hover-fill-color);\n",
              "  }\n",
              "\n",
              "  .colab-df-quickchart-complete:disabled,\n",
              "  .colab-df-quickchart-complete:disabled:hover {\n",
              "    background-color: var(--disabled-bg-color);\n",
              "    fill: var(--disabled-fill-color);\n",
              "    box-shadow: none;\n",
              "  }\n",
              "\n",
              "  .colab-df-spinner {\n",
              "    border: 2px solid var(--fill-color);\n",
              "    border-color: transparent;\n",
              "    border-bottom-color: var(--fill-color);\n",
              "    animation:\n",
              "      spin 1s steps(1) infinite;\n",
              "  }\n",
              "\n",
              "  @keyframes spin {\n",
              "    0% {\n",
              "      border-color: transparent;\n",
              "      border-bottom-color: var(--fill-color);\n",
              "      border-left-color: var(--fill-color);\n",
              "    }\n",
              "    20% {\n",
              "      border-color: transparent;\n",
              "      border-left-color: var(--fill-color);\n",
              "      border-top-color: var(--fill-color);\n",
              "    }\n",
              "    30% {\n",
              "      border-color: transparent;\n",
              "      border-left-color: var(--fill-color);\n",
              "      border-top-color: var(--fill-color);\n",
              "      border-right-color: var(--fill-color);\n",
              "    }\n",
              "    40% {\n",
              "      border-color: transparent;\n",
              "      border-right-color: var(--fill-color);\n",
              "      border-top-color: var(--fill-color);\n",
              "    }\n",
              "    60% {\n",
              "      border-color: transparent;\n",
              "      border-right-color: var(--fill-color);\n",
              "    }\n",
              "    80% {\n",
              "      border-color: transparent;\n",
              "      border-right-color: var(--fill-color);\n",
              "      border-bottom-color: var(--fill-color);\n",
              "    }\n",
              "    90% {\n",
              "      border-color: transparent;\n",
              "      border-bottom-color: var(--fill-color);\n",
              "    }\n",
              "  }\n",
              "</style>\n",
              "\n",
              "  <script>\n",
              "    async function quickchart(key) {\n",
              "      const quickchartButtonEl =\n",
              "        document.querySelector('#' + key + ' button');\n",
              "      quickchartButtonEl.disabled = true;  // To prevent multiple clicks.\n",
              "      quickchartButtonEl.classList.add('colab-df-spinner');\n",
              "      try {\n",
              "        const charts = await google.colab.kernel.invokeFunction(\n",
              "            'suggestCharts', [key], {});\n",
              "      } catch (error) {\n",
              "        console.error('Error during call to suggestCharts:', error);\n",
              "      }\n",
              "      quickchartButtonEl.classList.remove('colab-df-spinner');\n",
              "      quickchartButtonEl.classList.add('colab-df-quickchart-complete');\n",
              "    }\n",
              "    (() => {\n",
              "      let quickchartButtonEl =\n",
              "        document.querySelector('#df-f12c94e8-14f6-4ff7-8bb5-ca258fd76585 button');\n",
              "      quickchartButtonEl.style.display =\n",
              "        google.colab.kernel.accessAllowed ? 'block' : 'none';\n",
              "    })();\n",
              "  </script>\n",
              "</div>\n",
              "\n",
              "    </div>\n",
              "  </div>\n"
            ]
          },
          "metadata": {},
          "execution_count": 41
        }
      ]
    },
    {
      "cell_type": "code",
      "source": [
        "output(trial, fin_model)"
      ],
      "metadata": {
        "id": "7XbqVFMQIsD-",
        "colab": {
          "base_uri": "https://localhost:8080/",
          "height": 1000
        },
        "outputId": "18dad54a-024f-428d-cff9-2f6b2304a81c"
      },
      "execution_count": 44,
      "outputs": [
        {
          "output_type": "stream",
          "name": "stdout",
          "text": [
            "The overall mood of the playlist is: party\n"
          ]
        },
        {
          "output_type": "display_data",
          "data": {
            "text/plain": [
              "<Figure size 640x480 with 1 Axes>"
            ],
            "image/png": "[encoded data removed]"
          },
          "metadata": {}
        },
        {
          "output_type": "stream",
          "name": "stdout",
          "text": [
            "Songs that have the angry mood\n"
          ]
        },
        {
          "output_type": "display_data",
          "data": {
            "text/plain": [
              "['Scars To Your Beautiful', 'positions']"
            ]
          },
          "metadata": {}
        },
        {
          "output_type": "stream",
          "name": "stdout",
          "text": [
            "\n",
            "\n",
            "Songs that have the chill mood\n"
          ]
        },
        {
          "output_type": "display_data",
          "data": {
            "text/plain": [
              "['thank u, next', 'Into You', 'Blank Space']"
            ]
          },
          "metadata": {}
        },
        {
          "output_type": "stream",
          "name": "stdout",
          "text": [
            "\n",
            "\n",
            "Songs that have the happy mood\n"
          ]
        },
        {
          "output_type": "display_data",
          "data": {
            "text/plain": [
              "['Friday', 'Chammak Challo', 'Dance The Night - From Barbie The Album']"
            ]
          },
          "metadata": {}
        },
        {
          "output_type": "stream",
          "name": "stdout",
          "text": [
            "\n",
            "\n",
            "Songs that have the instrumental mood\n"
          ]
        },
        {
          "output_type": "display_data",
          "data": {
            "text/plain": [
              "['Never Ending Story']"
            ]
          },
          "metadata": {}
        },
        {
          "output_type": "stream",
          "name": "stdout",
          "text": [
            "\n",
            "\n",
            "Songs that have the party mood\n"
          ]
        },
        {
          "output_type": "display_data",
          "data": {
            "text/plain": [
              "['Baby',\n",
              " 'Scars To Your Beautiful',\n",
              " 'What Makes You Beautiful',\n",
              " \"break up with your girlfriend, i'm bored\",\n",
              " 'Side To Side',\n",
              " \"We're All In This Together\",\n",
              " 'Levitating (feat. DaBaby)']"
            ]
          },
          "metadata": {}
        },
        {
          "output_type": "stream",
          "name": "stdout",
          "text": [
            "\n",
            "\n",
            "Songs that have the romance mood\n"
          ]
        },
        {
          "output_type": "display_data",
          "data": {
            "text/plain": [
              "['I Want It That Way', 'Love Me Like You Do - From \"Fifty Shades Of Grey\"']"
            ]
          },
          "metadata": {}
        },
        {
          "output_type": "stream",
          "name": "stdout",
          "text": [
            "\n",
            "\n",
            "Songs that have the sad mood\n"
          ]
        },
        {
          "output_type": "display_data",
          "data": {
            "text/plain": [
              "['7 rings', 'NASA']"
            ]
          },
          "metadata": {}
        },
        {
          "output_type": "stream",
          "name": "stdout",
          "text": [
            "\n",
            "\n"
          ]
        }
      ]
    }
  ]
}